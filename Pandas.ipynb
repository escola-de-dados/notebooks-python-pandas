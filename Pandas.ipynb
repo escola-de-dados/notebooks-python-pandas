{
  "nbformat": 4,
  "nbformat_minor": 2,
  "metadata": {
    "colab": {
      "name": "Introdução_ao_Pandas.ipynb",
      "provenance": [],
      "collapsed_sections": [
        "pEPSVhlmMc2M",
        "IGFV_VXSSaQP",
        "LyIHm4IkpTK2",
        "4Osy-L2YyFiY",
        "hvAtDIcO5GLK",
        "rPQDjya2DUxJ",
        "w8L3kQz9pibd",
        "4d3jHHUlKyVv",
        "owwjr5-hyYSv"
      ]
    },
    "kernelspec": {
      "name": "python3",
      "display_name": "Python 3.9.5 64-bit"
    },
    "language_info": {
      "name": "python",
      "version": "3.9.5",
      "mimetype": "text/x-python",
      "codemirror_mode": {
        "name": "ipython",
        "version": 3
      },
      "pygments_lexer": "ipython3",
      "nbconvert_exporter": "python",
      "file_extension": ".py"
    },
    "interpreter": {
      "hash": "916dbcbb3f70747c44a77c7bcd40155683ae19c65e1c03b4aa3499c5328201f1"
    }
  },
  "cells": [
    {
      "cell_type": "markdown",
      "source": [
        "# Introdução ao Pandas"
      ],
      "metadata": {
        "id": "pEPSVhlmMc2M"
      }
    },
    {
      "cell_type": "markdown",
      "source": [
        "Este notebook vai introduzir você à biblioteca [`Pandas`](https://pandas.pydata.org/) e mostrar como examinar, ordenar, agrupar e agregar uma base de dados. Usaremos dados da [Liga de Baseboll dos Estados Unidos](https://databases.usatoday.com/mlb-salaries/).\n",
        "\n",
        "Se você é iniciante no Python ou precisa reforçar conhecimentos básicos sobre a sintaxe, pode ser interessante [começar com esse notebook](Python.ipynb) \n",
        "\n",
        "O notebook irá cobrir as seguintes etapas:\n",
        "\n",
        "*   Importar o Pandas\n",
        "*   Carregar dados dentro de um dataframe\n",
        "*   Examinar os dados\n",
        "*   Ordenação\n",
        "*   Filtragem de dados\n",
        "*   Agrupar e agregar os dados\n",
        "*   Exportar como CSV\n",
        "\n"
      ],
      "metadata": {
        "id": "N0rlqAn3Mgpr"
      }
    },
    {
      "cell_type": "markdown",
      "source": [
        "# Importar o Pandas"
      ],
      "metadata": {
        "id": "LyIHm4IkpTK2"
      }
    },
    {
      "cell_type": "markdown",
      "source": [
        "Antes de usar as funcionalidades do `Pandas` ou outras bibliotecas de terceiros que não estão inclusas no Python, você precisa importa-las, usando o `import`. É comum colocarmos uma abreviação, um nome mais curto para facilitar sua utilização no restante de nosso código. No caso do `pandas` por convenção é usado  `pd`.\n",
        "\n",
        "Então, vamos começar rodando esta célula:"
      ],
      "metadata": {
        "id": "H6GWVozZpZ_W"
      }
    },
    {
      "cell_type": "code",
      "execution_count": null,
      "source": [
        "import pandas as pd"
      ],
      "outputs": [],
      "metadata": {
        "id": "RUEELruRvtrq"
      }
    },
    {
      "cell_type": "markdown",
      "source": [
        "Se você não tem o Pandas instalado na sua máquina, irá receber um erro. Para instalar a bibloteca, podemos usar o gerenciador de pacotes do Python (PIP), rodando o comando `!pip install pandas` antes de importá-la."
      ],
      "metadata": {}
    },
    {
      "cell_type": "markdown",
      "source": [
        "**Mude os formatos de exibição**"
      ],
      "metadata": {
        "id": "2ev4yuHDwKMl"
      }
    },
    {
      "cell_type": "markdown",
      "source": [
        "O passo seguinte é opcional, mas é muito comum em notebooks de análise de dados usando Pandas. \n",
        "\n",
        "A próxima célula altera o formato de exibição para números, que são escritos em notação científica por padrão. Se ler números nesse formato for confortável para você, você não precisa executá-la. "
      ],
      "metadata": {
        "id": "XlCpJYT7wv_M"
      }
    },
    {
      "cell_type": "code",
      "execution_count": null,
      "source": [
        "pd.options.display.float_format = '{:20,.2f}'.format"
      ],
      "outputs": [],
      "metadata": {
        "id": "jZVEODL7wRdL"
      }
    },
    {
      "cell_type": "markdown",
      "source": [
        "Para saber mais sobre essa mudança de formato, [consulte a documentação](https://pandas.pydata.org/pandas-docs/stable/user_guide/options.html)."
      ],
      "metadata": {}
    },
    {
      "cell_type": "markdown",
      "source": [
        "# Carregar dados em uma tabela (DataFrame)"
      ],
      "metadata": {
        "id": "4Osy-L2YyFiY"
      }
    },
    {
      "cell_type": "markdown",
      "source": [
        "Antes de começar a manipular os dados, é preciso carregá-los dentro de uma tabela (DataFrame) do Pandas. Um dataframe é como se fosse uma tabela, como a do Excel, com linhas e colunas."
      ],
      "metadata": {
        "id": "rar6gExByZM6"
      }
    },
    {
      "cell_type": "markdown",
      "source": [
        "Você pode carregar diferentes tipos de dados como de um DataFrame incluindo CSVs, arquivos do Excel (xlsx), JSON, [entre outros](https://www.cbtnuggets.com/blog/technology/programming/14-file-types-you-can-import-into-pandas). Confira esse outro notebook com [exemplos de importações de acordo com o tipo de arquivo](https://github.com/ireapps/cfj-2018/blob/master/reference/Importing%20data%20into%20pandas.ipynb).\n",
        "\n",
        "O foco aqui será importar os dados sobre a Liga de Basebol usando o método `read_csv`. Há várias opções que você pode incluir quando estiver lendo uma base de dados, porém a maneira mais simples é indicar o caminho do arquivo entre aspas. Neste caso, vamos usar a própria URL do arquivo CSV presente no [repositório do Github](https://github.com/escola-de-dados/notebooks-python-pandas/) deste tutorial."
      ],
      "metadata": {
        "id": "h0cLLXA7yNl3"
      }
    },
    {
      "cell_type": "code",
      "execution_count": null,
      "source": [
        "df = pd.read_csv('https://github.com/escola-de-dados/notebooks-python-pandas/raw/master/mlb.csv')"
      ],
      "outputs": [],
      "metadata": {
        "id": "tb-ARfjE3Hmw"
      }
    },
    {
      "cell_type": "markdown",
      "source": [
        "Além de importar os dados, vamos salvar essas informações dentro de uma variável chamada `df` (nome curto para DataFrame - facilita a leitura e a busca por ajuda no Google, por ser algo padronizado).\n",
        "\n",
        "Resumindo: Importamos a biblioteca `pandas` e chamamos ela de `pd`, usamos o método `read_csv` para importar os dados do aquivo `mlb.csv` dentro de um `dataframe`, depois salvamos esta tabela na variável `df`."
      ],
      "metadata": {
        "id": "UW17_O3z2YM3"
      }
    },
    {
      "cell_type": "markdown",
      "source": [
        "# Examinando os dados"
      ],
      "metadata": {
        "id": "hvAtDIcO5GLK"
      }
    },
    {
      "cell_type": "markdown",
      "source": [
        "Vamos dar uma olhada mais detalhada nos dados que temos usando alguns métodos e atributos de um DataFrame Pandas:\n"
      ],
      "metadata": {
        "id": "5T6HK-fa_u2i"
      }
    },
    {
      "cell_type": "markdown",
      "source": [
        "- `df.head()`: Mostra as cinco primeiras linhas do dataframe por padrão, mas você pode especificar a quantidade que preferir entre parênteses. Ex: `df.head(10)`"
      ],
      "metadata": {
        "id": "1Kc7KJyeAFx8"
      }
    },
    {
      "cell_type": "code",
      "execution_count": null,
      "source": [
        "df.head()"
      ],
      "outputs": [],
      "metadata": {
        "colab": {
          "base_uri": "https://localhost:8080/",
          "height": 203
        },
        "id": "-tsuamgn5hq9",
        "outputId": "78adde9d-7e91-4b8b-ae10-0a050d005dff"
      }
    },
    {
      "cell_type": "markdown",
      "source": [
        "- `df.tail()`: Mostra as últimas cinco linhas do DataFrame, mas você pode especificar a quantidade que preferir entre parênteses. Ex. `df.tail(10)`\n",
        "\n"
      ],
      "metadata": {
        "id": "Z1SCFu2aAoRR"
      }
    },
    {
      "cell_type": "code",
      "execution_count": null,
      "source": [
        "df.tail()"
      ],
      "outputs": [],
      "metadata": {
        "colab": {
          "base_uri": "https://localhost:8080/",
          "height": 203
        },
        "id": "xy9gZTqdA-0c",
        "outputId": "ca34647e-ba7a-461c-b293-7bd2250f3cf9"
      }
    },
    {
      "cell_type": "markdown",
      "source": [
        "- `df.describe()`: Apresenta um resumo estatístico apenas das colunas que contém conteudo numérico."
      ],
      "metadata": {
        "id": "TdE3TyufBBwg"
      }
    },
    {
      "cell_type": "code",
      "execution_count": null,
      "source": [
        "df.describe()"
      ],
      "outputs": [],
      "metadata": {
        "colab": {
          "base_uri": "https://localhost:8080/",
          "height": 295
        },
        "id": "rjxk0nQnBSDk",
        "outputId": "47399184-5228-4517-db34-0cfd55ca0694"
      }
    },
    {
      "cell_type": "markdown",
      "source": [
        "- `df.sample()`: Mostra uma linha aleatória do DataFrame, mas você pode especificar quantas linhas aleatórias deseja visualizar. Ex: `df.sample(5)`"
      ],
      "metadata": {
        "id": "6fNh1xZBBbM8"
      }
    },
    {
      "cell_type": "code",
      "execution_count": null,
      "source": [
        "df.sample()"
      ],
      "outputs": [],
      "metadata": {
        "colab": {
          "base_uri": "https://localhost:8080/",
          "height": 80
        },
        "id": "JubDqQyABT8w",
        "outputId": "de4a972a-d1f3-4397-d8e8-14402e7dd6fc"
      }
    },
    {
      "cell_type": "markdown",
      "source": [
        "- `df.shape`: Informa quantas colunas e linhas o DataFrame tem."
      ],
      "metadata": {
        "id": "zYaN8-EoCSDx"
      }
    },
    {
      "cell_type": "code",
      "execution_count": null,
      "source": [
        "df.shape"
      ],
      "outputs": [],
      "metadata": {
        "colab": {
          "base_uri": "https://localhost:8080/"
        },
        "id": "0sgFAo1nB25K",
        "outputId": "082b1af2-429c-43e3-fba4-38b10de97816"
      }
    },
    {
      "cell_type": "markdown",
      "source": [
        "- `df.dtypes`: Lista o nome das colunas e o tipo de dados que contém em cada uma."
      ],
      "metadata": {
        "id": "7n8dcFVKCqC1"
      }
    },
    {
      "cell_type": "code",
      "execution_count": null,
      "source": [
        "df.dtypes"
      ],
      "outputs": [],
      "metadata": {
        "colab": {
          "base_uri": "https://localhost:8080/"
        },
        "id": "a-P-ffGlC9fT",
        "outputId": "26e2acc4-616e-4bce-dbc4-614dbeebdf0c"
      }
    },
    {
      "cell_type": "markdown",
      "source": [
        "# Ordenando os dados"
      ],
      "metadata": {
        "id": "rPQDjya2DUxJ"
      }
    },
    {
      "cell_type": "markdown",
      "source": [
        "Para ordenar um DataFrame, use o método `sort_values()`. A maneira mais simples de uso é passando o nome de uma coluna entre parênteses."
      ],
      "metadata": {
        "id": "R4X7UWiwDfS_"
      }
    },
    {
      "cell_type": "code",
      "execution_count": null,
      "source": [
        "df.sort_values('SALARY')"
      ],
      "outputs": [],
      "metadata": {
        "colab": {
          "base_uri": "https://localhost:8080/",
          "height": 417
        },
        "id": "6zrpde4fEgH5",
        "outputId": "0825f294-0bf0-47d9-fdd6-a7ec04e8243e"
      }
    },
    {
      "cell_type": "markdown",
      "source": [
        "Como padrão esse método ordena de forma crescente. Se desejar que seja decrescente, coloque `ascending=False`. \n",
        "\n",
        "Observe que o valor boleano não é uma string, por isso não está entre aspas e tem a letra inicial em maiúscula. Alguns métodos ou funções possuem diversos argumentos que podem ser passados entre parênteses, para saber quais são consulte a [documentação do Pandas](https://pandas.pydata.org/docs/). Se desejar passar mais de um argumento, basta separar eles com vírgulas."
      ],
      "metadata": {
        "id": "5y4OKcr0HBIY"
      }
    },
    {
      "cell_type": "code",
      "execution_count": null,
      "source": [
        "df.sort_values('SALARY', ascending=False)"
      ],
      "outputs": [],
      "metadata": {
        "colab": {
          "base_uri": "https://localhost:8080/",
          "height": 417
        },
        "id": "_bi1Q_UpG8WY",
        "outputId": "8cbce0f3-4102-425c-f6ce-346638675d7d"
      }
    },
    {
      "cell_type": "markdown",
      "source": [
        "Você pode encadear vários métodos em uma linha. Por exemplo, se quisessemos ordenar os dados de maneira descendente e mostrar apenas as cinco primeiras linhas, poderíamos fazer dessa forma:"
      ],
      "metadata": {
        "id": "iVb_Sl8WKObE"
      }
    },
    {
      "cell_type": "code",
      "execution_count": null,
      "source": [
        "df.sort_values('SALARY', ascending=False).head()"
      ],
      "outputs": [],
      "metadata": {
        "colab": {
          "base_uri": "https://localhost:8080/",
          "height": 203
        },
        "id": "FyrCNZpnKJpI",
        "outputId": "fcf61fc5-2af7-4b70-e86b-5e39b6a63343"
      }
    },
    {
      "cell_type": "markdown",
      "source": [
        "Você pode ordenar várias colunas de uma vez, passando uma lista com nome de colunas ao invés de uma única coluna. Uma lista é um conjunto de itens separado por vírgulas, entre colchetes `[]`.<br>\n",
        "Para ordenar primeiro `SALARY` e depois `TEAM`: "
      ],
      "metadata": {
        "id": "ZkoYGO3ALGQg"
      }
    },
    {
      "cell_type": "code",
      "execution_count": null,
      "source": [
        "df.sort_values(['SALARY','TEAM']).head()"
      ],
      "outputs": [],
      "metadata": {
        "colab": {
          "base_uri": "https://localhost:8080/",
          "height": 203
        },
        "id": "nBQDaab7LAoZ",
        "outputId": "0da8720b-e928-472a-8859-2c24dcc29aa9"
      }
    },
    {
      "cell_type": "markdown",
      "source": [
        "Você pode especificar o ordenamento (ascendente ou descendente) para cada coluna listada, passando um outra lista para o `ascending` com `True` e `False`, na ordem das colunas a serem ordenadas. Por exemplo, para ordenar a coluna `SALARY` como descendente e `TEAM` como `ascendente`, seria:"
      ],
      "metadata": {
        "id": "MkH5MGHfNVAv"
      }
    },
    {
      "cell_type": "code",
      "execution_count": null,
      "source": [
        "df.sort_values(['SALARY', 'TEAM'], ascending=[False,True]).head()"
      ],
      "outputs": [],
      "metadata": {
        "colab": {
          "base_uri": "https://localhost:8080/",
          "height": 203
        },
        "id": "tkny4hbgMs8I",
        "outputId": "89b6ce7c-3e08-464b-98ba-cf22bdefff82"
      }
    },
    {
      "cell_type": "markdown",
      "source": [
        "O `False` foi para coluna `SALARY` e o `True` para coluna `TEAM` porque estes operadores.\n",
        "ooleanos estão na mesma posição que as colunas foram passadas na lista.operadores.\n",
        "\n",
        "**Observação:** Apesar de terem sido feitas essas ordenações, nenhuma alteração foi aplicada ao dataframe original.\n"
      ],
      "metadata": {
        "id": "fD3oXjCQkryH"
      }
    },
    {
      "cell_type": "code",
      "execution_count": null,
      "source": [
        "df.head()"
      ],
      "outputs": [],
      "metadata": {
        "colab": {
          "base_uri": "https://localhost:8080/",
          "height": 203
        },
        "id": "yBZbyr0vkmnt",
        "outputId": "bbd9bce6-fcb3-4b2b-92e1-ff963cf7da7b"
      }
    },
    {
      "cell_type": "markdown",
      "source": [
        "Isso acontece porque não salvamos os resultados do ordenamento em uma variável. Se você quiser manter o ordenamento que você fez (ou qualquer outro tipo de manipulação), recomenda-se guardar os resultados em uma variável."
      ],
      "metadata": {
        "id": "a0N1gOfNmpkK"
      }
    },
    {
      "cell_type": "code",
      "execution_count": null,
      "source": [
        "ordenar_por_team = df.sort_values('TEAM')\n"
      ],
      "outputs": [],
      "metadata": {
        "id": "5aj_SefOlgYr"
      }
    },
    {
      "cell_type": "code",
      "execution_count": null,
      "source": [
        "ordenar_por_team.head()"
      ],
      "outputs": [],
      "metadata": {
        "colab": {
          "base_uri": "https://localhost:8080/",
          "height": 203
        },
        "id": "FI5aBh0InQ-w",
        "outputId": "30a7cf36-160b-4d47-fb04-5a70269d705a"
      }
    },
    {
      "cell_type": "markdown",
      "source": [
        "✍️ **Sua vez!** <p> \n",
        "Nas próximas células, ordene o DataFrame `df`:\n",
        "\n",
        "\n",
        "\n",
        "*   Pela coluna `NAME`\n",
        "\n",
        "\n"
      ],
      "metadata": {
        "id": "_ZJVNLrnneSQ"
      }
    },
    {
      "cell_type": "code",
      "execution_count": null,
      "source": [],
      "outputs": [],
      "metadata": {
        "id": "jbk3eGUbnWT-"
      }
    },
    {
      "cell_type": "markdown",
      "source": [
        "*   Pela coluna `POS` de modo descendente\n"
      ],
      "metadata": {
        "id": "HUML7v0uKbtr"
      }
    },
    {
      "cell_type": "code",
      "execution_count": null,
      "source": [],
      "outputs": [],
      "metadata": {
        "id": "5JPFWItKpULe"
      }
    },
    {
      "cell_type": "markdown",
      "source": [
        "*   Pela coluna `SALARY` de modo descendente, `POS` de modo ascendente, e salve os resultados em uma variável chamada `ordene_por_salary_e_pos`"
      ],
      "metadata": {
        "id": "HOh_KemCKdrQ"
      }
    },
    {
      "cell_type": "code",
      "execution_count": null,
      "source": [],
      "outputs": [],
      "metadata": {
        "id": "tGo3aP1WpUBy"
      }
    },
    {
      "cell_type": "markdown",
      "source": [
        "# Filtrar os dados"
      ],
      "metadata": {
        "id": "w8L3kQz9pibd"
      }
    },
    {
      "cell_type": "markdown",
      "source": [
        "Vamos ver dois tipos diferentes de filtro:\n",
        "\n",
        "\n",
        "*   **Filtro de coluna:** Retorna uma ou mais colunas de dados especificadas, semelhante a passar nome de colunas no `SELECT` em uma consulta SQL.\n",
        "  \n",
        "*   **Filtro de linha:** Retorna um recorte dos seus dados que atenda aos critérios que foram especificados, semelhante a uma consulta SQL usando `WHERE`. Por exemplo: Mostre todos os dados no DataFrame onde os valores da coluna `TEAM` sejam igual a `ARI`. \n",
        "\n"
      ],
      "metadata": {
        "id": "k1PpSFuHpl-d"
      }
    },
    {
      "cell_type": "markdown",
      "source": [
        "**Filtro de coluna**<p>\n",
        "Para acessar os valores em uma única coluna de dados, você pode usar um ponto e o nome da coluna, desde que o nome da coluna não tenha espaços ou caracteres especiais."
      ],
      "metadata": {
        "id": "BYiNMfDPsBrO"
      }
    },
    {
      "cell_type": "code",
      "execution_count": null,
      "source": [
        "df.TEAM"
      ],
      "outputs": [],
      "metadata": {
        "colab": {
          "base_uri": "https://localhost:8080/"
        },
        "id": "aBT8OJ-LsbXX",
        "outputId": "2c28ac02-d5f7-4935-9004-03307d661ff3"
      }
    },
    {
      "cell_type": "markdown",
      "source": [
        "Outro jeito é usando os colchetes com o nome da coluna entre aspas. Este modo é bastante útil quando o nome das colunas possuem espaços, por exemplo."
      ],
      "metadata": {
        "id": "-UddmFC4sfSu"
      }
    },
    {
      "cell_type": "code",
      "execution_count": null,
      "source": [
        "df['TEAM']"
      ],
      "outputs": [],
      "metadata": {
        "colab": {
          "base_uri": "https://localhost:8080/"
        },
        "id": "HWq66WXmsc1z",
        "outputId": "ff090ffc-e490-4022-8306-b15dc4924803"
      }
    },
    {
      "cell_type": "markdown",
      "source": [
        "Quando você acessa uma única coluna no seu DataFrame, você está pegando uma parte dele, que é chamada de `Series`.\n",
        "\n",
        "Um dos métodos que podem ser chamados para série (Series) é o `unique()`, que mostra apenas valores únicos da coluna. Vamos fazer isso com a coluna `TEAM`:"
      ],
      "metadata": {
        "id": "jNLWExK8tMOZ"
      }
    },
    {
      "cell_type": "code",
      "execution_count": null,
      "source": [
        "df.TEAM.unique()"
      ],
      "outputs": [],
      "metadata": {
        "colab": {
          "base_uri": "https://localhost:8080/"
        },
        "id": "m-SIbWontKEg",
        "outputId": "e24e81d2-e324-4133-aa44-746ea2ef4c47"
      }
    },
    {
      "cell_type": "markdown",
      "source": [
        "Você pode contar o total de linhas para cada valor usando o método `values_counts()`:"
      ],
      "metadata": {
        "id": "ZYa23NKhvKey"
      }
    },
    {
      "cell_type": "code",
      "execution_count": null,
      "source": [
        "df.TEAM.value_counts()"
      ],
      "outputs": [],
      "metadata": {
        "colab": {
          "base_uri": "https://localhost:8080/"
        },
        "id": "Kw3fjiYUuh2a",
        "outputId": "3a922c2e-c41d-4b66-b31c-7d924384dbb4"
      }
    },
    {
      "cell_type": "markdown",
      "source": [
        "Para colunas numéricas, você pode chamar métodos básicos de estatística na coluna:\n",
        "\n",
        "\n",
        "*   `min()` pega o menor valor\n",
        "*   `max()` pega o maior valor\n",
        "*   `median()` pega a mediana\n",
        "*   `mean()` pega a média\n",
        "*   `mode()` pega o valor mais comum\n",
        "\n",
        "Vamos checar esses métodos, aplicando-os na coluna `SALARY`: "
      ],
      "metadata": {
        "id": "v7RrplsrwC54"
      }
    },
    {
      "cell_type": "code",
      "execution_count": null,
      "source": [
        "df.SALARY.min()"
      ],
      "outputs": [],
      "metadata": {
        "colab": {
          "base_uri": "https://localhost:8080/"
        },
        "id": "rnNickwEv_Oi",
        "outputId": "912606fb-6314-4d12-d930-92196b001bbf"
      }
    },
    {
      "cell_type": "code",
      "execution_count": null,
      "source": [
        "df.SALARY.max()"
      ],
      "outputs": [],
      "metadata": {
        "colab": {
          "base_uri": "https://localhost:8080/"
        },
        "id": "NmdyBH__xX_R",
        "outputId": "63f49458-9126-4c7e-86f6-77002d143903"
      }
    },
    {
      "cell_type": "code",
      "execution_count": null,
      "source": [
        "df.SALARY.median()"
      ],
      "outputs": [],
      "metadata": {
        "colab": {
          "base_uri": "https://localhost:8080/"
        },
        "id": "ZEwp--CwxcYY",
        "outputId": "13b782eb-c570-44d4-d726-cffbe040b85c"
      }
    },
    {
      "cell_type": "code",
      "execution_count": null,
      "source": [
        "df.SALARY.mean()"
      ],
      "outputs": [],
      "metadata": {
        "colab": {
          "base_uri": "https://localhost:8080/"
        },
        "id": "GMRFNNWVxfww",
        "outputId": "e48ff705-b908-48a4-ee52-04f040574e05"
      }
    },
    {
      "cell_type": "code",
      "execution_count": null,
      "source": [
        "df.SALARY.mode()"
      ],
      "outputs": [],
      "metadata": {
        "colab": {
          "base_uri": "https://localhost:8080/"
        },
        "id": "f40BKlKexjdg",
        "outputId": "fc7242e5-716b-4feb-ab8e-2ec1396404d6"
      }
    },
    {
      "cell_type": "markdown",
      "source": [
        "Para selecionar várias colunas do DataFrame, passamos uma lista com os nomes das colunas entre colchetes, ao invés de apenas uma. Uma maneira de ficar legível é executando esse procedimento em duas etapas."
      ],
      "metadata": {
        "id": "3ULROXxxxq9g"
      }
    },
    {
      "cell_type": "code",
      "execution_count": null,
      "source": [
        "# Salva em uma variável as colunas que desejamos filtrar\n",
        "colunas_filtradas = ['TEAM','SALARY']\n",
        "\n",
        "# Passa a variável entre colchetes, junto ao nome do DataFrame\n",
        "df[colunas_filtradas]"
      ],
      "outputs": [],
      "metadata": {
        "colab": {
          "base_uri": "https://localhost:8080/",
          "height": 417
        },
        "id": "bZu-Jsg3xmDm",
        "outputId": "6a58a6b3-54a2-4053-bad5-7c9e15aa17d9"
      }
    },
    {
      "cell_type": "markdown",
      "source": [
        "**Filtrando linhas**\n",
        "\n",
        "O colchetes também é usado para filtrar linhas. Neste caso, ao invés do nome da coluna (ou uma lista de nomes), colocamos dentro do colchetes uma condição.\n",
        "\n",
        "Vamos filtrar nossos dados para ver qual jogador tem salário maior que 1000000, ou seja, o filtro deve retornar as linhas onde o valor da coluna `SALARY` seja maior que $1.000.000."
      ],
      "metadata": {
        "id": "9jzwToOUy2Nc"
      }
    },
    {
      "cell_type": "code",
      "execution_count": null,
      "source": [
        "df[df.SALARY > 1000000]"
      ],
      "outputs": [],
      "metadata": {
        "colab": {
          "base_uri": "https://localhost:8080/",
          "height": 417
        },
        "id": "_-QDt1lpyw05",
        "outputId": "bac1fa1c-1ce1-4cd3-ddfb-58cec8bb7192"
      }
    },
    {
      "cell_type": "markdown",
      "source": [
        "Esse filtro em SQL seria:\n",
        "\n",
        "```sql\n",
        "SELECT *\n",
        "FROM mlb\n",
        "WHERE SALARY > 1000000\n",
        "```"
      ],
      "metadata": {
        "id": "dIvS8zDLzWDb"
      }
    },
    {
      "cell_type": "markdown",
      "source": [
        "É possível usar os operadores de comparação do Python:\n",
        "\n",
        "\n",
        "*   `>`  maior que\n",
        "*   `>=` maior ou igual a\n",
        "*   `<`  menor que\n",
        "*   `<=` menor ou igual a\n",
        "*   `==` igual a\n",
        "*   `!=` diferente de\n",
        "\n",
        "\n"
      ],
      "metadata": {
        "id": "E0_c82Dt2knF"
      }
    },
    {
      "cell_type": "markdown",
      "source": [
        "**Filtro com muitas condições**\n",
        "\n",
        "O que fazer quando se quer usar um filtro com mais de uma condição? Podemos salvar os resultados de cada filtro em uma variável e depois filtrar novamente a partir do DataFrame original.\n",
        "\n",
        "Por exemplo, se você quiser saber quais jogadores do Colorado Rockies tem salários acima de $1 milhão, você pode fazer assim:"
      ],
      "metadata": {
        "id": "fXqu247FDQpe"
      }
    },
    {
      "cell_type": "code",
      "execution_count": null,
      "source": [
        "#Filtrando primeiro só quem joga no Colorado Rockies\n",
        "rockies = df[df.TEAM == 'COL']\n",
        "\n",
        "#Filtrando os salários maiores que $1 milhão, utilizando o filtro anterior para sinalizar em qual time o filtro deve acontecer \n",
        "rockies_maior_1m = rockies[rockies.SALARY > 1000000]\n",
        "\n",
        "rockies_maior_1m"
      ],
      "outputs": [],
      "metadata": {
        "colab": {
          "base_uri": "https://localhost:8080/",
          "height": 511
        },
        "id": "iX5lETbyFfbR",
        "outputId": "4709dfc0-5309-4c11-f7e2-9d697ab88d07"
      }
    },
    {
      "cell_type": "markdown",
      "source": [
        "✍️ **Sua vez!**\n",
        "\n",
        "Nas celulas seguintes, faça os seguintes filtros: \n",
        "\n",
        "\n",
        "*   **Filtro de coluna:** Selecione a coluna `NAME`\n",
        "\n",
        "\n"
      ],
      "metadata": {
        "id": "WYDjKl9lG1Iq"
      }
    },
    {
      "cell_type": "code",
      "execution_count": null,
      "source": [],
      "outputs": [],
      "metadata": {
        "id": "WQTndVNEGpZn"
      }
    },
    {
      "cell_type": "markdown",
      "source": [
        "*   **Filtro de coluna:** Selecione as colunas `NAME` e `TEAM`\n",
        " "
      ],
      "metadata": {
        "id": "UgX8yYTBJ-9w"
      }
    },
    {
      "cell_type": "code",
      "execution_count": null,
      "source": [],
      "outputs": [],
      "metadata": {
        "id": "JUDmXaXkJ3Sc"
      }
    },
    {
      "cell_type": "markdown",
      "source": [
        "*   **Filtro de linha:** Filtre as linhas e traga como resultado apenas os Catchers (C, na coluna `POS`) que tem salários a partir de $750000\n"
      ],
      "metadata": {
        "id": "fZvAHAcxKN6L"
      }
    },
    {
      "cell_type": "code",
      "execution_count": null,
      "source": [],
      "outputs": [],
      "metadata": {
        "id": "UxXO5R24J4Zn"
      }
    },
    {
      "cell_type": "markdown",
      "source": [
        "*   **BÔNUS:** Filtre as linhas e traga apenas os jogadores do Chicago Cubs (CHC), depois ordene de maneira descendente a coluna `SALARY`"
      ],
      "metadata": {
        "id": "1xZr1ECBKQNr"
      }
    },
    {
      "cell_type": "code",
      "execution_count": null,
      "source": [],
      "outputs": [],
      "metadata": {
        "id": "rCgL7iYtJ4Ev"
      }
    },
    {
      "cell_type": "markdown",
      "source": [
        "# Agupar e agregar os dados"
      ],
      "metadata": {
        "id": "4d3jHHUlKyVv"
      }
    },
    {
      "cell_type": "markdown",
      "source": [
        "O método `groupby` é usado para agrupar e agregar os dados, semelhante ao que é feito em uma tabela dinâmica ou uma consulta SQL. O Pandas também tem um método para tabela dinâmica, caso te interesse [você pode conferir na documentação](https://pandas.pydata.org/pandas-docs/stable/reference/api/pandas.pivot_table.html).\n",
        "\n",
        "\n",
        "Digamos que queremos ver o top 10 dos times por folha de pagamento. Em outras palavras nós queremos:\n",
        "\n",
        "*   Agrupar os dados pela coluna `TEAM`: `groupby()`\n",
        "*   Somar os resultados de cada grupo: `sum()`\n",
        "*   Ordenas os resultados pela coluna `SALARY` de forma descendente: `sort_values()`\n",
        "*   Mostrar apenas o top 10: `head(10)`\n",
        "  \n",
        "Chamar o método `groupby()` sem dizer o que ele faz com os resultados agrupados não ajuda muito:"
      ],
      "metadata": {
        "id": "k4Y-FJ_kK_ZY"
      }
    },
    {
      "cell_type": "code",
      "execution_count": null,
      "source": [
        "df.groupby('TEAM')"
      ],
      "outputs": [],
      "metadata": {
        "colab": {
          "base_uri": "https://localhost:8080/"
        },
        "id": "u5YG42W0Nuvf",
        "outputId": "cbd318bb-55d4-42a1-f870-97e33709a937"
      }
    },
    {
      "cell_type": "markdown",
      "source": [
        "Basicamente o Pandas só nos diz que o agrupamento foi bem sucedido. O que fazemos agora? Usando métodos encadeados, descrevemos o que gostariamos de fazer com as colunas numéricas depois que elas estão agrupadas. <p>Vamos começar com `sum()`:"
      ],
      "metadata": {
        "id": "mECWVmtjN4GJ"
      }
    },
    {
      "cell_type": "code",
      "execution_count": null,
      "source": [
        "df.groupby('TEAM').sum()"
      ],
      "outputs": [],
      "metadata": {
        "colab": {
          "base_uri": "https://localhost:8080/",
          "height": 1000
        },
        "id": "b1LhHNfWNzKy",
        "outputId": "2caf81fd-9c24-4abb-d2e8-f19708046933"
      }
    },
    {
      "cell_type": "markdown",
      "source": [
        "Perfeito! Exceto pelo fato que o Pandas somou todas as colunas numéricas e não apenas a coluna `SALARY`. Para ajustar isso, filtraremos as duas colunas que estamos interessados - agrupando pela coluna `TEAM` e então somaremos os valores. Como nesse filtro a única coluna numérica é `SALARY`, o Pandas vai entender que é apenas essa que deve ser somada.\n",
        "\n",
        "**Lembre-se:** Para selecionar as colunas de um DataFrame, use colchetes e liste o nome das colunas, separando com vírgula.\n",
        "\n",
        "\n",
        "\n"
      ],
      "metadata": {
        "id": "2wpGQvFdUVhm"
      }
    },
    {
      "cell_type": "code",
      "execution_count": null,
      "source": [
        "df[['TEAM', 'SALARY']].groupby('TEAM').sum()"
      ],
      "outputs": [],
      "metadata": {
        "id": "4wR6tQClUR_y"
      }
    },
    {
      "cell_type": "markdown",
      "source": [
        "Ótimo! Agora encadeando os métodos vamos ordenar a coluna `SALARY` de maneira descendente, trazendo como resultado apenas o top 10:"
      ],
      "metadata": {
        "id": "Kca5rzsQv4Dc"
      }
    },
    {
      "cell_type": "code",
      "execution_count": null,
      "source": [
        "df[['TEAM','SALARY']].groupby('TEAM').sum().sort_values('SALARY', ascending=False).head(10)"
      ],
      "outputs": [],
      "metadata": {
        "id": "1niPvLhjvaHO"
      }
    },
    {
      "cell_type": "markdown",
      "source": [
        "Você pode agregar outros métodos além do `sum()`, como `mean()` e `median()`, usando o método `agg()` para aplicar mais de uma operação."
      ],
      "metadata": {
        "id": "LQmL-m02wdwx"
      }
    },
    {
      "cell_type": "code",
      "execution_count": null,
      "source": [
        "df[['TEAM','SALARY']].groupby('TEAM').median()"
      ],
      "outputs": [],
      "metadata": {
        "id": "JqZQjuoLwYlM"
      }
    },
    {
      "cell_type": "code",
      "execution_count": null,
      "source": [
        "df[['TEAM','SALARY']].groupby('TEAM').mean()"
      ],
      "outputs": [],
      "metadata": {
        "id": "7Wl-uU6ExITT"
      }
    },
    {
      "cell_type": "code",
      "execution_count": null,
      "source": [
        "df[['TEAM','SALARY']].groupby('TEAM').agg(['sum','mean','median'])"
      ],
      "outputs": [],
      "metadata": {
        "id": "gzrQal7bxK6_"
      }
    },
    {
      "cell_type": "markdown",
      "source": [
        "\n",
        "✍️ **Sua vez!**<p>\n",
        "Nas próximas células, faça os seguintes agrupamentos:\n",
        "\n",
        "\n",
        "*   Qual a média salarial de cada posição? Agrupe os dados por `POS` e descubra a mediana (`median()`), depois agrupe a coluna `SALARY` de maneira descendente.\n",
        "\n",
        "\n"
      ],
      "metadata": {
        "id": "Mgp85vxtxdlu"
      }
    },
    {
      "cell_type": "code",
      "execution_count": null,
      "source": [],
      "outputs": [],
      "metadata": {
        "id": "42NIatLnxWUU"
      }
    },
    {
      "cell_type": "markdown",
      "source": [
        "*   Qual a média salarial de cada time? Agrupe os dados pela coluna `TEAM` e some (`sum()`), depois ordene pela coluna `SALARY` de maneira descendente.\n",
        "\n"
      ],
      "metadata": {
        "id": "QcR5nfjNyFS0"
      }
    },
    {
      "cell_type": "code",
      "execution_count": null,
      "source": [],
      "outputs": [],
      "metadata": {
        "id": "fnRM7z-_yZPE"
      }
    },
    {
      "cell_type": "markdown",
      "source": [
        "# Exportar como CSV"
      ],
      "metadata": {
        "id": "owwjr5-hyYSv"
      }
    },
    {
      "cell_type": "markdown",
      "source": [
        "Para exportar o DataFrame como um arquivo CSV, use o método `to_csv`, indicando o caminho onde deseja que seu arquivo seja salvo. Se você não quiser incluir o índice do DataFrame, especifique usando `index=False`."
      ],
      "metadata": {
        "id": "8ECmyhcgyfJw"
      }
    },
    {
      "cell_type": "code",
      "execution_count": null,
      "source": [
        "df.to_csv('meu_arquivo.csv', index=False)"
      ],
      "outputs": [],
      "metadata": {
        "id": "iGlKt3-dy_Fn"
      }
    }
  ]
}