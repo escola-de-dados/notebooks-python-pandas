{
  "nbformat": 4,
  "nbformat_minor": 5,
  "metadata": {
    "kernelspec": {
      "display_name": "Python 3 (ipykernel)",
      "language": "python",
      "name": "python3"
    },
    "language_info": {
      "codemirror_mode": {
        "name": "ipython",
        "version": 3
      },
      "file_extension": ".py",
      "mimetype": "text/x-python",
      "name": "python",
      "nbconvert_exporter": "python",
      "pygments_lexer": "ipython3",
      "version": "3.9.6"
    },
    "colab": {
      "name": "Dicas de sintaxe do Python.ipynb",
      "provenance": []
    }
  },
  "cells": [
    {
      "cell_type": "markdown",
      "metadata": {
        "id": "incMEzozpiMc"
      },
      "source": [
        "# Dicas de sintaxe do Python"
      ],
      "id": "incMEzozpiMc"
    },
    {
      "cell_type": "markdown",
      "metadata": {
        "id": "24c0378a"
      },
      "source": [
        "Você já pensou em aprender Python para analisar dados, mas não sabe por onde começar? Esse tutorial foi feito para você. Aqui focaremos nos pontos básicos que você precisa saber sobre a linguagem.\n",
        "\n",
        "Seguiremos as seguintes etapas:\n",
        "\n",
        "- Usando Notebooks\n",
        "- Tipos embutidos\n",
        "    - Strings\n",
        "    - Números e operações matemáticas\n",
        "    - Booleanos\n",
        "- Atribuição de variável\n",
        "- Métodos de string\n",
        "- Comentários\n",
        "- A função print()\n",
        "- Coleções de dados\n",
        "    - Listas\n",
        "    - Dicionários\n",
        "- Estrutura de repetição `for`\n",
        "- Declarações `if`\n",
        "\n",
        "Mas antes, vamos aprender como funciona os Notebooks de desenvolvimento."
      ],
      "id": "24c0378a"
    },
    {
      "cell_type": "markdown",
      "metadata": {
        "id": "8bgiQd0goQOA"
      },
      "source": [
        "# Usando Notebooks"
      ],
      "id": "8bgiQd0goQOA"
    },
    {
      "cell_type": "markdown",
      "metadata": {
        "id": "RVJeLciMoRV4"
      },
      "source": [
        "Há muitas maneiras de escrever e rodar um código Python no seu computador. Uma delas - o método que estamos usando aqui - é usar os notebooks. Noteboks são plataformas que permitem escrever códigos e documenta-los. Podem ser online como o [Google Colab](https://colab.research.google.com/), ou offline como o [Jupyter Notebook](https://jupyter.org/), em ambos os casos rodarão direto do seu navegador.<p>\n",
        "Ele é útil para deixar seu código com explicações sobre o que acontece em cada etapa do processo. Você pode encontrar alguns exemplos de uso de notebook na aba [tutoriais da Escola de Dados](https://escoladedados.org/tutoriais/), como este sobre [cruzar dados de desmatamento e agropecuária usando Python](https://escoladedados.org/tutoriais/dados-de-desmatamento-e-agropecuaria-python/)."
      ],
      "id": "RVJeLciMoRV4"
    },
    {
      "cell_type": "markdown",
      "metadata": {
        "id": "D8kcyrqjo0xk"
      },
      "source": [
        "Basicamente o funcionamento de um notebook consiste em incluir novas células e executá-las. <p>\n",
        "*  **Para adicionar uma nova célula ao seu notebook**: \n",
        "    * **Jupyter Notebook:**  Clique no ícone  `+` embaixo do menu `File` e escolha se quer texto (markdown) ou código (Code) no menu suspenso embaixo do menu `Widgets`.\n",
        "    * **Google Colab:** Clique em `+ Código` ou `+ Texto`, embaixo do menu `Arquivo`.\n",
        "\n",
        "*  **Para executar uma célula de código:** Pressione `Shift` + `Enter`.\n",
        "\n",
        "**Erro comum:** O notebook não \"sabe\" o código que está na célula até que ele seja executado. Por exemplo, se você definir uma variável chamada `meu_nome` em uma célula e depois tentar acessar essa mesma variável em outra célula sem executar a célula que contém a variável antes, você receberá um erro:\n",
        "`NameError: name 'meu_nome' is not defined`. A possivel solução desse erro é rodar a célula onde está a variável. \n",
        "\n",
        "Pronto, agora estamos prontos para iniciar nossos aprendizados em Python!"
      ],
      "id": "D8kcyrqjo0xk"
    },
    {
      "cell_type": "markdown",
      "metadata": {
        "id": "6ca6b073"
      },
      "source": [
        "# Tipos embutidos"
      ],
      "id": "6ca6b073"
    },
    {
      "cell_type": "markdown",
      "metadata": {
        "id": "0ibIOohzqH-9"
      },
      "source": [
        "Assim como Excel e outros softwares de processamento de dados, Python reconhece uma gama de diferentes tipos de dados, sendo que três deles receberão mais ênfase:\n",
        "\n",
        "- Strings (texto)\n",
        "- Números (inteiros, números com casas decimais e mais)\n",
        "- Booleanos (`True`(verdadeiro) e `False`(falso)).\n",
        "\n",
        "Você pode usar a função embutida [`type()`](https://docs.python.org/pt-br/3/library/functions.html#type) para verificar o tipo de dado de um valor qualquer. Rode a célula para visualizar um exemplo:"
      ],
      "id": "0ibIOohzqH-9"
    },
    {
      "cell_type": "code",
      "metadata": {
        "colab": {
          "base_uri": "https://localhost:8080/"
        },
        "id": "af15c560",
        "outputId": "427d2562-b495-4bd7-bf66-d4f15837e63e"
      },
      "source": [
        "type(45)"
      ],
      "id": "af15c560",
      "execution_count": 6,
      "outputs": [
        {
          "output_type": "execute_result",
          "data": {
            "text/plain": [
              "int"
            ]
          },
          "metadata": {},
          "execution_count": 6
        }
      ]
    },
    {
      "cell_type": "markdown",
      "metadata": {
        "id": "ea34572a"
      },
      "source": [
        "# Strings\n",
        "\n"
      ],
      "id": "ea34572a"
    },
    {
      "cell_type": "markdown",
      "metadata": {
        "id": "pi6oT35ar9kL"
      },
      "source": [
        "Uma string é um conjunto de caracteres - letras, números, o que quer que seja - acompanhado de aspas simples ou duplas, não importando qual, contanto que as aspas de início e fim sejam iguais. O código nesse notebook usa aspas simples. O guia de estilo do Python não recomenda alternar entre aspas, [\"escolha uma regra e vá com ela até o fim.\"](https://www.python.org/dev/peps/pep-0008/#string-quotes). <br>Rode a célula para ver um exemplo:"
      ],
      "id": "pi6oT35ar9kL"
    },
    {
      "cell_type": "code",
      "metadata": {
        "colab": {
          "base_uri": "https://localhost:8080/",
          "height": 35
        },
        "id": "zVj-rkDRBqIg",
        "outputId": "14a21c8f-3a26-4ccc-d22a-9d2506759293"
      },
      "source": [
        "'Olá Mundo!'"
      ],
      "id": "zVj-rkDRBqIg",
      "execution_count": 19,
      "outputs": [
        {
          "output_type": "execute_result",
          "data": {
            "application/vnd.google.colaboratory.intrinsic+json": {
              "type": "string"
            },
            "text/plain": [
              "'Olá Mundo!'"
            ]
          },
          "metadata": {},
          "execution_count": 19
        }
      ]
    },
    {
      "cell_type": "code",
      "metadata": {
        "colab": {
          "base_uri": "https://localhost:8080/",
          "height": 35
        },
        "id": "ymRKW58mCTs5",
        "outputId": "67fbc987-2d30-4ff6-f79b-367550ee5029"
      },
      "source": [
        "\"Python é uma linguagem de programação\""
      ],
      "id": "ymRKW58mCTs5",
      "execution_count": 20,
      "outputs": [
        {
          "output_type": "execute_result",
          "data": {
            "application/vnd.google.colaboratory.intrinsic+json": {
              "type": "string"
            },
            "text/plain": [
              "'Python é uma linguagem de programação'"
            ]
          },
          "metadata": {},
          "execution_count": 20
        }
      ]
    },
    {
      "cell_type": "markdown",
      "metadata": {
        "id": "oR5KnsYjBo6L"
      },
      "source": [
        "Se a sua string possuir apostrófos ou citações, você tem duas opções para fazer o sinal. <br>Execute as células seguintes para conferir:  \n",
        "\n",
        "1.   _Acrescentar_ uma barra invertida antes do caractere em questão (`\\`):"
      ],
      "id": "oR5KnsYjBo6L"
    },
    {
      "cell_type": "code",
      "metadata": {
        "colab": {
          "base_uri": "https://localhost:8080/",
          "height": 35
        },
        "id": "P_nuh4Ao8RMQ",
        "outputId": "a9b37807-4d04-4b7f-d23c-1d8192a42707"
      },
      "source": [
        "\"Já tomou um copo d\\'água hoje?\""
      ],
      "id": "P_nuh4Ao8RMQ",
      "execution_count": 11,
      "outputs": [
        {
          "output_type": "execute_result",
          "data": {
            "application/vnd.google.colaboratory.intrinsic+json": {
              "type": "string"
            },
            "text/plain": [
              "\"Já tomou um copo d'água hoje?\""
            ]
          },
          "metadata": {},
          "execution_count": 11
        }
      ]
    },
    {
      "cell_type": "markdown",
      "metadata": {
        "id": "ncz8qSCP8q1M"
      },
      "source": [
        "2.   Mudar as aspas simples para aspas duplas (opção recomendada):"
      ],
      "id": "ncz8qSCP8q1M"
    },
    {
      "cell_type": "code",
      "metadata": {
        "colab": {
          "base_uri": "https://localhost:8080/",
          "height": 35
        },
        "id": "a0hBLAQM8wug",
        "outputId": "4277e7dc-2e0f-490f-874b-9e69004cccfb"
      },
      "source": [
        "\"Já tomou um copo d'água hoje?\""
      ],
      "id": "a0hBLAQM8wug",
      "execution_count": 10,
      "outputs": [
        {
          "output_type": "execute_result",
          "data": {
            "application/vnd.google.colaboratory.intrinsic+json": {
              "type": "string"
            },
            "text/plain": [
              "\"Já tomou um copo d'água hoje?\""
            ]
          },
          "metadata": {},
          "execution_count": 10
        }
      ]
    },
    {
      "cell_type": "markdown",
      "metadata": {
        "id": "NdryWjbA81Ir"
      },
      "source": [
        "Quando você chama a funcão `type()` em uma string, o Python irá lhe retornar `str`."
      ],
      "id": "NdryWjbA81Ir"
    },
    {
      "cell_type": "code",
      "metadata": {
        "colab": {
          "base_uri": "https://localhost:8080/"
        },
        "id": "56ebdf96",
        "outputId": "c5b94b7c-1757-41e6-fd7d-9d98d3e822d8"
      },
      "source": [
        "type('Olá!')"
      ],
      "id": "56ebdf96",
      "execution_count": 8,
      "outputs": [
        {
          "output_type": "execute_result",
          "data": {
            "text/plain": [
              "str"
            ]
          },
          "metadata": {},
          "execution_count": 8
        }
      ]
    },
    {
      "cell_type": "markdown",
      "metadata": {
        "id": "iNIBsmUY-Dn7"
      },
      "source": [
        "Chamando a [função `str()`](https://docs.python.org/pt-br/3/library/stdtypes.html#str) em um valor qualquer, irá lhe retornar aquele mesmo valor convertido em string."
      ],
      "id": "iNIBsmUY-Dn7"
    },
    {
      "cell_type": "code",
      "metadata": {
        "colab": {
          "base_uri": "https://localhost:8080/",
          "height": 35
        },
        "id": "cbbcd41d",
        "outputId": "2f8bc9a5-2bde-4043-8f1a-1911e86e36f1"
      },
      "source": [
        "str(45)"
      ],
      "id": "cbbcd41d",
      "execution_count": 7,
      "outputs": [
        {
          "output_type": "execute_result",
          "data": {
            "application/vnd.google.colaboratory.intrinsic+json": {
              "type": "string"
            },
            "text/plain": [
              "'45'"
            ]
          },
          "metadata": {},
          "execution_count": 7
        }
      ]
    },
    {
      "cell_type": "markdown",
      "metadata": {
        "id": "FJYOyHQ8_yuT"
      },
      "source": [
        "Você pode utilizar uma função dentro de outra função:"
      ],
      "id": "FJYOyHQ8_yuT"
    },
    {
      "cell_type": "code",
      "metadata": {
        "id": "92f686f6"
      },
      "source": [
        "type(str(45))"
      ],
      "id": "92f686f6",
      "execution_count": null,
      "outputs": []
    },
    {
      "cell_type": "markdown",
      "metadata": {
        "id": "DcGISO_o_8DR"
      },
      "source": [
        "Também pode passar um valor boleano e a função identificará como string:"
      ],
      "id": "DcGISO_o_8DR"
    },
    {
      "cell_type": "code",
      "metadata": {
        "id": "3d4d3cfd"
      },
      "source": [
        "str(True)"
      ],
      "id": "3d4d3cfd",
      "execution_count": null,
      "outputs": []
    },
    {
      "cell_type": "markdown",
      "metadata": {
        "id": "fa70968e"
      },
      "source": [
        "Se você \"adicionar\" strings com um sinal de mais `+`, elas serão concatenadas:"
      ],
      "id": "fa70968e"
    },
    {
      "cell_type": "code",
      "metadata": {
        "colab": {
          "base_uri": "https://localhost:8080/",
          "height": 35
        },
        "id": "ca9c4c1d",
        "outputId": "a7ecb586-01c4-4b15-af2f-50078c822066"
      },
      "source": [
        "'SEXTA' + '-' + 'FEIRA'"
      ],
      "id": "ca9c4c1d",
      "execution_count": 17,
      "outputs": [
        {
          "output_type": "execute_result",
          "data": {
            "application/vnd.google.colaboratory.intrinsic+json": {
              "type": "string"
            },
            "text/plain": [
              "'SEXTA-FEIRA'"
            ]
          },
          "metadata": {},
          "execution_count": 17
        }
      ]
    },
    {
      "cell_type": "markdown",
      "metadata": {
        "id": "341b5053"
      },
      "source": [
        "# Números e operações matemáticas\n"
      ],
      "id": "341b5053"
    },
    {
      "cell_type": "markdown",
      "metadata": {
        "id": "pq1ZlP8-AwMf"
      },
      "source": [
        "Python reconhece uma infinidade de tipos de dados numéricos. Os dois mais comuns são: \n",
        "*   integers (números inteiros)"
      ],
      "id": "pq1ZlP8-AwMf"
    },
    {
      "cell_type": "code",
      "metadata": {
        "id": "4db1e575"
      },
      "source": [
        "12"
      ],
      "id": "4db1e575",
      "execution_count": null,
      "outputs": []
    },
    {
      "cell_type": "markdown",
      "metadata": {
        "id": "6Ygo-jylC9FL"
      },
      "source": [
        "*   floats (números com casas decimais)."
      ],
      "id": "6Ygo-jylC9FL"
    },
    {
      "cell_type": "code",
      "metadata": {
        "colab": {
          "base_uri": "https://localhost:8080/"
        },
        "id": "dba37e48",
        "outputId": "5b28ebc2-389a-4daf-cbc9-a28481d55d7a"
      },
      "source": [
        "12.4"
      ],
      "id": "dba37e48",
      "execution_count": 21,
      "outputs": [
        {
          "output_type": "execute_result",
          "data": {
            "text/plain": [
              "12.4"
            ]
          },
          "metadata": {},
          "execution_count": 21
        }
      ]
    },
    {
      "cell_type": "markdown",
      "metadata": {
        "id": "zLgVTnQWC2HN"
      },
      "source": [
        "Assim como acontece quando chama a função `str()` e ela converte qualquer valor em string, chamar a função `int()` em um tipo de dado númerico (mesmo que este esteja no formato string) tentará forçá-lo a ser um inteiro."
      ],
      "id": "zLgVTnQWC2HN"
    },
    {
      "cell_type": "code",
      "metadata": {
        "id": "a7f884f1"
      },
      "source": [
        "type(12)"
      ],
      "id": "a7f884f1",
      "execution_count": null,
      "outputs": []
    },
    {
      "cell_type": "code",
      "metadata": {
        "id": "373c06c3"
      },
      "source": [
        "int(35.6)"
      ],
      "id": "373c06c3",
      "execution_count": null,
      "outputs": []
    },
    {
      "cell_type": "code",
      "metadata": {
        "id": "0246bae3"
      },
      "source": [
        "int('45')"
      ],
      "id": "0246bae3",
      "execution_count": null,
      "outputs": []
    },
    {
      "cell_type": "markdown",
      "metadata": {
        "id": "A4eqjDqHDRju"
      },
      "source": [
        "O mesmo acontece quando utiliza a função `float()`."
      ],
      "id": "A4eqjDqHDRju"
    },
    {
      "cell_type": "code",
      "metadata": {
        "id": "9c5a3f23"
      },
      "source": [
        "type(12.4)"
      ],
      "id": "9c5a3f23",
      "execution_count": null,
      "outputs": []
    },
    {
      "cell_type": "code",
      "metadata": {
        "id": "207484ed"
      },
      "source": [
        "float(46)"
      ],
      "id": "207484ed",
      "execution_count": null,
      "outputs": []
    },
    {
      "cell_type": "code",
      "metadata": {
        "id": "eb2e4da7"
      },
      "source": [
        "float('45')"
      ],
      "id": "eb2e4da7",
      "execution_count": null,
      "outputs": []
    },
    {
      "cell_type": "markdown",
      "metadata": {
        "id": "92a7ec20"
      },
      "source": [
        "O Python permite realizar operações matemáticas das mais [básicas](https://www.digitalocean.com/community/tutorials/how-to-do-math-in-python-3-with-operators) até as mais [avançadas](https://docs.python.org/pt-br/3/library/math.html)."
      ],
      "id": "92a7ec20"
    },
    {
      "cell_type": "code",
      "metadata": {
        "id": "407000af"
      },
      "source": [
        "4+2"
      ],
      "id": "407000af",
      "execution_count": null,
      "outputs": []
    },
    {
      "cell_type": "code",
      "metadata": {
        "id": "80df518e"
      },
      "source": [
        "10-9"
      ],
      "id": "80df518e",
      "execution_count": null,
      "outputs": []
    },
    {
      "cell_type": "code",
      "metadata": {
        "id": "029b0ade"
      },
      "source": [
        "5*10"
      ],
      "id": "029b0ade",
      "execution_count": null,
      "outputs": []
    },
    {
      "cell_type": "code",
      "metadata": {
        "id": "d2fa900e"
      },
      "source": [
        "1000/10"
      ],
      "id": "d2fa900e",
      "execution_count": null,
      "outputs": []
    },
    {
      "cell_type": "markdown",
      "metadata": {
        "id": "yBPhCF0cELKo"
      },
      "source": [
        "Para elevar um número à potência de outro número, utilize dois asterísticos `**`."
      ],
      "id": "yBPhCF0cELKo"
    },
    {
      "cell_type": "code",
      "metadata": {
        "colab": {
          "base_uri": "https://localhost:8080/"
        },
        "id": "c6aaa9d8",
        "outputId": "246ede1d-ce85-439d-d8be-118e2666a5b8"
      },
      "source": [
        "5**2"
      ],
      "id": "c6aaa9d8",
      "execution_count": 28,
      "outputs": [
        {
          "output_type": "execute_result",
          "data": {
            "text/plain": [
              "25"
            ]
          },
          "metadata": {},
          "execution_count": 28
        }
      ]
    },
    {
      "cell_type": "markdown",
      "metadata": {
        "id": "edwadkzyEmlw"
      },
      "source": [
        "# Booleanos"
      ],
      "id": "edwadkzyEmlw"
    },
    {
      "cell_type": "markdown",
      "metadata": {
        "id": "74c8ca31"
      },
      "source": [
        "Assim como o Excel, que possui os tipos `VERDADEIRO` e `FALSO`, Python possui tipos booleanos. Eles são `True` e `False` -- perceba que eles não devem vir acompanhados de aspas e que apenas as iniciais devem ser maiúsculas.\n",
        "\n",
        "Normalmente valores booleanos são retornados quando você está trabalhando com algum tipo de declaração condicional - comparando valores, verificando se uma string está dentro de outra string, se um valor está contido em uma lista, etc. "
      ],
      "id": "74c8ca31"
    },
    {
      "cell_type": "code",
      "metadata": {
        "id": "e0ae73a2"
      },
      "source": [
        "True"
      ],
      "id": "e0ae73a2",
      "execution_count": null,
      "outputs": []
    },
    {
      "cell_type": "code",
      "metadata": {
        "id": "37acbfee"
      },
      "source": [
        "False"
      ],
      "id": "37acbfee",
      "execution_count": null,
      "outputs": []
    },
    {
      "cell_type": "code",
      "metadata": {
        "id": "280394e0"
      },
      "source": [
        "type(True)"
      ],
      "id": "280394e0",
      "execution_count": null,
      "outputs": []
    },
    {
      "cell_type": "markdown",
      "metadata": {
        "id": "Zi33OvbsE9VD"
      },
      "source": [
        "Os [operadores lógicos do Python](https://docs.python.org/pt-br/3/reference/expressions.html#comparisons) são:\n",
        "\n",
        "- `>` maior que\n",
        "- `<` menor que\n",
        "- `>=` maior que ou igual a\n",
        "- `<=` menor que ou igual a\n",
        "- `==` igual a\n",
        "- `!=` diferente de"
      ],
      "id": "Zi33OvbsE9VD"
    },
    {
      "cell_type": "code",
      "metadata": {
        "id": "294936f3"
      },
      "source": [
        "4 > 6"
      ],
      "id": "294936f3",
      "execution_count": null,
      "outputs": []
    },
    {
      "cell_type": "code",
      "metadata": {
        "id": "d8b39e75"
      },
      "source": [
        "10 == 10"
      ],
      "id": "d8b39e75",
      "execution_count": null,
      "outputs": []
    },
    {
      "cell_type": "markdown",
      "metadata": {
        "id": "mBJLggCjFBoz"
      },
      "source": [
        "Python é uma linguagem case sensitive, ou seja, a mesma palavra pode ser entendida como uma palavra diferente simplesmente porque uma letra está maiuscula ou minúscula. "
      ],
      "id": "mBJLggCjFBoz"
    },
    {
      "cell_type": "code",
      "metadata": {
        "colab": {
          "base_uri": "https://localhost:8080/"
        },
        "id": "8c47a09a",
        "outputId": "b1d3e049-7a23-4a39-f144-a04e505794ed"
      },
      "source": [
        "'Python' == 'python'"
      ],
      "id": "8c47a09a",
      "execution_count": 30,
      "outputs": [
        {
          "output_type": "execute_result",
          "data": {
            "text/plain": [
              "False"
            ]
          },
          "metadata": {},
          "execution_count": 30
        }
      ]
    },
    {
      "cell_type": "markdown",
      "metadata": {
        "id": "BmCR_H-qFjmK"
      },
      "source": [
        "# Atribuição de variável"
      ],
      "id": "BmCR_H-qFjmK"
    },
    {
      "cell_type": "markdown",
      "metadata": {
        "id": "d6f4ec68"
      },
      "source": [
        "O sinal de igual (`=`) atribui um valor a uma variável cujo nome você irá definir. Se você quiser fazer uso desse valor basta que você chame o nome da variável. Nomes de variáveis podem ser qualquer coisa que nós quiseremos, [contanto que você siga algumas regrinhas básicas](https://thehelloworldprogram.com/python/python-variable-assignment-statements-rules-conventions-naming/).\n",
        "\n",
        "Este pode ser um conceito complicado de entender de primeira! Para mais detalhes, [aqui vai uma explicação muito boa do Digital Ocean](https://www.digitalocean.com/community/tutorials/how-to-use-variables-in-python-3)."
      ],
      "id": "d6f4ec68"
    },
    {
      "cell_type": "code",
      "metadata": {
        "id": "b8cb8f06"
      },
      "source": [
        "meu_nome = 'Francisco'"
      ],
      "id": "b8cb8f06",
      "execution_count": 38,
      "outputs": []
    },
    {
      "cell_type": "code",
      "metadata": {
        "id": "b85454aa"
      },
      "source": [
        "meu_nome"
      ],
      "id": "b85454aa",
      "execution_count": null,
      "outputs": []
    },
    {
      "cell_type": "code",
      "metadata": {
        "id": "a1f8bfb3"
      },
      "source": [
        "meu_numero_preferido = 10 + 3"
      ],
      "id": "a1f8bfb3",
      "execution_count": 36,
      "outputs": []
    },
    {
      "cell_type": "code",
      "metadata": {
        "colab": {
          "base_uri": "https://localhost:8080/"
        },
        "id": "5fde36f0",
        "outputId": "4aef2332-3a3f-4018-8a00-ad5e83c82b0d"
      },
      "source": [
        "meu_numero_preferido"
      ],
      "id": "5fde36f0",
      "execution_count": 37,
      "outputs": [
        {
          "output_type": "execute_result",
          "data": {
            "text/plain": [
              "13"
            ]
          },
          "metadata": {},
          "execution_count": 37
        }
      ]
    },
    {
      "cell_type": "markdown",
      "metadata": {
        "id": "c84b8d62"
      },
      "source": [
        "Você também pode _reatribuir_ um valor diferente para o nome de uma variável, porém uma boa prática é criar uma variável com nome diferente."
      ],
      "id": "c84b8d62"
    },
    {
      "cell_type": "code",
      "metadata": {
        "id": "RfMb8rjGGzuI"
      },
      "source": [
        "meu_nome = 'Maria'"
      ],
      "id": "RfMb8rjGGzuI",
      "execution_count": 40,
      "outputs": []
    },
    {
      "cell_type": "code",
      "metadata": {
        "id": "TXYl02v-G5_q"
      },
      "source": [
        "meu_nome"
      ],
      "id": "TXYl02v-G5_q",
      "execution_count": null,
      "outputs": []
    },
    {
      "cell_type": "markdown",
      "metadata": {
        "id": "8ccb217e"
      },
      "source": [
        "Também é comum se referir a variáveis previamente definidas em uma expressão:"
      ],
      "id": "8ccb217e"
    },
    {
      "cell_type": "code",
      "metadata": {
        "id": "7a705ddc"
      },
      "source": [
        "times_da_nfl = 32\n",
        "times_da_mlb = 30\n",
        "times_da_nba = 30\n",
        "times_da_nhl = 31\n",
        "\n",
        "quantidade_de_times_profissionais = times_da_nfl + times_da_mlb + times_da_nba + times_da_nhl"
      ],
      "id": "7a705ddc",
      "execution_count": 42,
      "outputs": []
    },
    {
      "cell_type": "code",
      "metadata": {
        "colab": {
          "base_uri": "https://localhost:8080/"
        },
        "id": "be48074a",
        "outputId": "9df337df-5fe1-40ac-ed31-3d8bd9c7667a"
      },
      "source": [
        "quantidade_de_times_profissionais"
      ],
      "id": "be48074a",
      "execution_count": 43,
      "outputs": [
        {
          "output_type": "execute_result",
          "data": {
            "text/plain": [
              "123"
            ]
          },
          "metadata": {},
          "execution_count": 43
        }
      ]
    },
    {
      "cell_type": "markdown",
      "metadata": {
        "id": "5bfd93a1"
      },
      "source": [
        "# Métodos de string\n"
      ],
      "id": "5bfd93a1"
    },
    {
      "cell_type": "markdown",
      "metadata": {
        "id": "YmNxdkqJKpYv"
      },
      "source": [
        "Voltando a falar de strings, é importante ressaltar que esses objetos possuem uma série de [métodos](https://docs.python.org/pt-br/3/library/stdtypes.html#string-methods) muito úteis - vamos usar uma string como exemplo para ilustrar os mais comuns."
      ],
      "id": "YmNxdkqJKpYv"
    },
    {
      "cell_type": "code",
      "metadata": {
        "colab": {
          "base_uri": "https://localhost:8080/",
          "height": 35
        },
        "id": "44dd516a",
        "outputId": "0ad2bbca-7a48-44ae-8c76-9abd2d48c6ed"
      },
      "source": [
        "minha_string = '    Oi, amigos!'\n",
        "minha_string"
      ],
      "id": "44dd516a",
      "execution_count": 46,
      "outputs": [
        {
          "output_type": "execute_result",
          "data": {
            "application/vnd.google.colaboratory.intrinsic+json": {
              "type": "string"
            },
            "text/plain": [
              "'    Oi, amigos!'"
            ]
          },
          "metadata": {},
          "execution_count": 46
        }
      ]
    },
    {
      "cell_type": "markdown",
      "metadata": {
        "id": "1c2a8a8e"
      },
      "source": [
        "A função `upper()` capitaliza todos os caracteres de uma string:"
      ],
      "id": "1c2a8a8e"
    },
    {
      "cell_type": "code",
      "metadata": {
        "colab": {
          "base_uri": "https://localhost:8080/",
          "height": 35
        },
        "id": "934e513c",
        "outputId": "87e228a2-cc95-4fb5-a8cc-30d03696c690"
      },
      "source": [
        "minha_string.upper()"
      ],
      "id": "934e513c",
      "execution_count": 45,
      "outputs": [
        {
          "output_type": "execute_result",
          "data": {
            "application/vnd.google.colaboratory.intrinsic+json": {
              "type": "string"
            },
            "text/plain": [
              "'    OI, AMIGOS!'"
            ]
          },
          "metadata": {},
          "execution_count": 45
        }
      ]
    },
    {
      "cell_type": "markdown",
      "metadata": {
        "id": "86a4d772"
      },
      "source": [
        "`lower()` converte para minúsculos:"
      ],
      "id": "86a4d772"
    },
    {
      "cell_type": "code",
      "metadata": {
        "colab": {
          "base_uri": "https://localhost:8080/",
          "height": 35
        },
        "id": "7d1a06f4",
        "outputId": "4ef2f353-954b-43ae-c722-8092242f831a"
      },
      "source": [
        "minha_string.lower()"
      ],
      "id": "7d1a06f4",
      "execution_count": 47,
      "outputs": [
        {
          "output_type": "execute_result",
          "data": {
            "application/vnd.google.colaboratory.intrinsic+json": {
              "type": "string"
            },
            "text/plain": [
              "'    oi, amigos!'"
            ]
          },
          "metadata": {},
          "execution_count": 47
        }
      ]
    },
    {
      "cell_type": "markdown",
      "metadata": {
        "id": "ad42608d"
      },
      "source": [
        "`replace()` irá substituir um trecho de texto com outro trecho a ser especificado por você:"
      ],
      "id": "ad42608d"
    },
    {
      "cell_type": "code",
      "metadata": {
        "colab": {
          "base_uri": "https://localhost:8080/",
          "height": 35
        },
        "id": "914cf5e3",
        "outputId": "a97c20ee-5bf9-478c-e6bd-54b5a05dfdd7"
      },
      "source": [
        "minha_string.replace('amigos', 'inimigos')"
      ],
      "id": "914cf5e3",
      "execution_count": 48,
      "outputs": [
        {
          "output_type": "execute_result",
          "data": {
            "application/vnd.google.colaboratory.intrinsic+json": {
              "type": "string"
            },
            "text/plain": [
              "'    Oi, inimigos!'"
            ]
          },
          "metadata": {},
          "execution_count": 48
        }
      ]
    },
    {
      "cell_type": "markdown",
      "metadata": {
        "id": "6e4669ea"
      },
      "source": [
        "`count()` irá contar a quantidade de vezes que um caractere ou grupo de caracteres aparece na sua string:"
      ],
      "id": "6e4669ea"
    },
    {
      "cell_type": "code",
      "metadata": {
        "colab": {
          "base_uri": "https://localhost:8080/"
        },
        "id": "642ed865",
        "outputId": "49df237b-d956-4ce2-a302-394818ca7088"
      },
      "source": [
        "minha_string.count('o')"
      ],
      "id": "642ed865",
      "execution_count": 49,
      "outputs": [
        {
          "output_type": "execute_result",
          "data": {
            "text/plain": [
              "1"
            ]
          },
          "metadata": {},
          "execution_count": 49
        }
      ]
    },
    {
      "cell_type": "markdown",
      "metadata": {
        "id": "85a6ec19"
      },
      "source": [
        "Perceba que `count()` diferencia entre minúsculas e maiúsculas. Se o que você deseja é contar todas as letras 'o', você deve converter sua string original para maiúscula ou minúscula anteriormente."
      ],
      "id": "85a6ec19"
    },
    {
      "cell_type": "code",
      "metadata": {
        "colab": {
          "base_uri": "https://localhost:8080/"
        },
        "id": "01bc0e8b",
        "outputId": "2bf9b904-84f4-4351-e2e7-2b17817b4429"
      },
      "source": [
        "minha_string.upper().count('O')"
      ],
      "id": "01bc0e8b",
      "execution_count": 50,
      "outputs": [
        {
          "output_type": "execute_result",
          "data": {
            "text/plain": [
              "2"
            ]
          },
          "metadata": {},
          "execution_count": 50
        }
      ]
    },
    {
      "cell_type": "markdown",
      "metadata": {
        "id": "dc146a55"
      },
      "source": [
        "`split()` irá fatiar a string e armazená-la em uma [lista](#Listas) (iremos falar mais sobre elas já já) baseado em um delimitador. Caso você não defina um delimitador, o delimitador definido por padrão é um espaço em branco:"
      ],
      "id": "dc146a55"
    },
    {
      "cell_type": "code",
      "metadata": {
        "colab": {
          "base_uri": "https://localhost:8080/"
        },
        "id": "8663e077",
        "outputId": "41adb8ab-a7bb-4783-f535-85485045712c"
      },
      "source": [
        "minha_string.split()"
      ],
      "id": "8663e077",
      "execution_count": 51,
      "outputs": [
        {
          "output_type": "execute_result",
          "data": {
            "text/plain": [
              "['Oi,', 'amigos!']"
            ]
          },
          "metadata": {},
          "execution_count": 51
        }
      ]
    },
    {
      "cell_type": "code",
      "metadata": {
        "colab": {
          "base_uri": "https://localhost:8080/"
        },
        "id": "bbacea47",
        "outputId": "c943fb47-8ec1-46f2-ac5b-687a14e4ce88"
      },
      "source": [
        "minha_string.split(',')"
      ],
      "id": "bbacea47",
      "execution_count": 52,
      "outputs": [
        {
          "output_type": "execute_result",
          "data": {
            "text/plain": [
              "['    Oi', ' amigos!']"
            ]
          },
          "metadata": {},
          "execution_count": 52
        }
      ]
    },
    {
      "cell_type": "code",
      "metadata": {
        "colab": {
          "base_uri": "https://localhost:8080/"
        },
        "id": "7b7438ec",
        "outputId": "54319059-d28c-48fd-a88a-c96e1ba8020d"
      },
      "source": [
        "minha_string.split('Pitt')"
      ],
      "id": "7b7438ec",
      "execution_count": 53,
      "outputs": [
        {
          "output_type": "execute_result",
          "data": {
            "text/plain": [
              "['    Oi, amigos!']"
            ]
          },
          "metadata": {},
          "execution_count": 53
        }
      ]
    },
    {
      "cell_type": "markdown",
      "metadata": {
        "id": "1f1b0a96"
      },
      "source": [
        "A função `strip()` remove espaços em branco das extremidade da sua string (mas não os espaços em branco internos):"
      ],
      "id": "1f1b0a96"
    },
    {
      "cell_type": "code",
      "metadata": {
        "colab": {
          "base_uri": "https://localhost:8080/",
          "height": 35
        },
        "id": "d4432f08",
        "outputId": "abc56b46-d6e9-447d-bf6c-83a090f6bf4f"
      },
      "source": [
        "minha_string.strip()"
      ],
      "id": "d4432f08",
      "execution_count": 54,
      "outputs": [
        {
          "output_type": "execute_result",
          "data": {
            "application/vnd.google.colaboratory.intrinsic+json": {
              "type": "string"
            },
            "text/plain": [
              "'Oi, amigos!'"
            ]
          },
          "metadata": {},
          "execution_count": 54
        }
      ]
    },
    {
      "cell_type": "markdown",
      "metadata": {
        "id": "6a712332"
      },
      "source": [
        "Tem uma coisa muito incrível chamada \"encadeamento de método\" que te permite combinar métodos - é só adicioná-los um ao final do outro. Digamos que nós quiséssemos remover um espaço em branco da nossa string _e_ colocá-la em maiúsculo:"
      ],
      "id": "6a712332"
    },
    {
      "cell_type": "code",
      "metadata": {
        "colab": {
          "base_uri": "https://localhost:8080/",
          "height": 35
        },
        "id": "19938073",
        "outputId": "9e0430ec-b8fb-4fa6-e5fd-d8baac7fa820"
      },
      "source": [
        "minha_string.strip().upper()"
      ],
      "id": "19938073",
      "execution_count": 55,
      "outputs": [
        {
          "output_type": "execute_result",
          "data": {
            "application/vnd.google.colaboratory.intrinsic+json": {
              "type": "string"
            },
            "text/plain": [
              "'OI, AMIGOS!'"
            ]
          },
          "metadata": {},
          "execution_count": 55
        }
      ]
    },
    {
      "cell_type": "markdown",
      "metadata": {
        "id": "37046553"
      },
      "source": [
        "Apesar disso, nossa string original permanece inalterada:"
      ],
      "id": "37046553"
    },
    {
      "cell_type": "code",
      "metadata": {
        "colab": {
          "base_uri": "https://localhost:8080/",
          "height": 35
        },
        "id": "8a8e9add",
        "outputId": "1f09adf4-5cb8-42dc-ffaf-43acdd054681"
      },
      "source": [
        "minha_string"
      ],
      "id": "8a8e9add",
      "execution_count": 56,
      "outputs": [
        {
          "output_type": "execute_result",
          "data": {
            "application/vnd.google.colaboratory.intrinsic+json": {
              "type": "string"
            },
            "text/plain": [
              "'    Oi, amigos!'"
            ]
          },
          "metadata": {},
          "execution_count": 56
        }
      ]
    },
    {
      "cell_type": "markdown",
      "metadata": {
        "id": "fe7ffaba"
      },
      "source": [
        "Mas por que isso? É que a gente não atribuiu os resultados de nenhuma dessas operações a qualquer variável. Uma prática muito comum, especialmente quando estamos limpando dados, é atribuir os resultados a uma nova variável:"
      ],
      "id": "fe7ffaba"
    },
    {
      "cell_type": "code",
      "metadata": {
        "id": "ed59b96a"
      },
      "source": [
        "minha_string_limpa = minha_string.strip().upper()"
      ],
      "id": "ed59b96a",
      "execution_count": 58,
      "outputs": []
    },
    {
      "cell_type": "code",
      "metadata": {
        "colab": {
          "base_uri": "https://localhost:8080/",
          "height": 35
        },
        "id": "58f3f9b5",
        "outputId": "cb0f281b-9aae-48ec-f4aa-98eb65b95650"
      },
      "source": [
        "minha_string_limpa"
      ],
      "id": "58f3f9b5",
      "execution_count": 59,
      "outputs": [
        {
          "output_type": "execute_result",
          "data": {
            "application/vnd.google.colaboratory.intrinsic+json": {
              "type": "string"
            },
            "text/plain": [
              "'OI, AMIGOS!'"
            ]
          },
          "metadata": {},
          "execution_count": 59
        }
      ]
    },
    {
      "cell_type": "markdown",
      "metadata": {
        "id": "53eadf31"
      },
      "source": [
        "# Comentários\n",
        "\n"
      ],
      "id": "53eadf31"
    },
    {
      "cell_type": "markdown",
      "metadata": {
        "id": "gJRkGJq2MIY1"
      },
      "source": [
        "Uma linha comentada - uma nota que você não quer que seja interpretada como código pelo Python - começa com um sinal de `#`. Esse recurso é utilizado para que você e outros colaboradores entendam o que está acontecendo naquele ponto do seu código e o porquê de estar acontecendo.\n",
        "\n",
        "Em geral, você deve usar essa ferramenta logo acima da linha de código que você deseja comentar:"
      ],
      "id": "gJRkGJq2MIY1"
    },
    {
      "cell_type": "code",
      "metadata": {
        "id": "8763975a"
      },
      "source": [
        "liquidacao_media = 40827348.34328237\n",
        "\n",
        "# convertendo este valor para int porque não precisamos de casas decimais nesse caso\n",
        "int(liquidacao_media)"
      ],
      "id": "8763975a",
      "execution_count": null,
      "outputs": []
    },
    {
      "cell_type": "markdown",
      "metadata": {
        "id": "04bf5940"
      },
      "source": [
        "Comentários de mais de uma linha são colocados entre três aspas (ou três apóstrofos):\n",
        "\n",
        "`'''\n",
        "este\n",
        "é um longo\n",
        "comentário\n",
        "'''`\n",
        "\n",
        "ou\n",
        "\n",
        "`\"\"\"\n",
        "este é outro\n",
        "longo\n",
        "comentário\n",
        "\"\"\"`"
      ],
      "id": "04bf5940"
    },
    {
      "cell_type": "markdown",
      "metadata": {
        "id": "f2bd2ec4"
      },
      "source": [
        "# A função `print()`\n",
        "\n"
      ],
      "id": "f2bd2ec4"
    },
    {
      "cell_type": "markdown",
      "metadata": {
        "id": "-nUExbJ8MqiT"
      },
      "source": [
        "Até então, nós executamos as células deste notebook para pegar o último valor retornado pelo código que escrevemos. Usar a função [`print()`](https://docs.python.org/pt-br/3/library/functions.html#print) é uma forma de imprimir na tela coisas específicas do seu código. Esta é também uma ferramenta bem útil para depuração de código.\n",
        "\n",
        "Para exibir múltiplos elementos na mesma linha, separe-os com uma vírgula."
      ],
      "id": "-nUExbJ8MqiT"
    },
    {
      "cell_type": "code",
      "metadata": {
        "id": "034fd283"
      },
      "source": [
        "print('Olá!')"
      ],
      "id": "034fd283",
      "execution_count": null,
      "outputs": []
    },
    {
      "cell_type": "code",
      "metadata": {
        "id": "c39bc6bb"
      },
      "source": [
        "print(meu_nome)"
      ],
      "id": "c39bc6bb",
      "execution_count": null,
      "outputs": []
    },
    {
      "cell_type": "code",
      "metadata": {
        "id": "af4fd086"
      },
      "source": [
        "print('Olá,', meu_nome)"
      ],
      "id": "af4fd086",
      "execution_count": null,
      "outputs": []
    },
    {
      "cell_type": "markdown",
      "metadata": {
        "id": "bff733fa"
      },
      "source": [
        "# Coleções de dados\n",
        "\n",
        "Agora iremos abordar duas maneiras que você pode usar Python para agrupar dados em uma coleção: listas e dicionários."
      ],
      "id": "bff733fa"
    },
    {
      "cell_type": "markdown",
      "metadata": {
        "id": "0feb98c3"
      },
      "source": [
        "**Listas**\n",
        "\n",
        "Uma _lista_ é um conjunto de itens separados por vírgulas dentro de colchetes: `[]`.\n",
        "\n",
        "Aqui vai uma lista de ingredientes, cada um sendo uma string, que combinados formam a receita de um molho."
      ],
      "id": "0feb98c3"
    },
    {
      "cell_type": "code",
      "metadata": {
        "id": "9c3f8761"
      },
      "source": [
        "ingredientes_para_o_molho = ['tomate', 'cebola', 'pimenta', 'limão', 'coentro']"
      ],
      "id": "9c3f8761",
      "execution_count": 70,
      "outputs": []
    },
    {
      "cell_type": "markdown",
      "metadata": {
        "id": "1ec1bb5c"
      },
      "source": [
        "Para acessar um item de uma lista você deve informar sua posição numérica na lista - o seu _índice_ (1, 2, 3, etc.) - dentro de colchetes imediatamente após o nome da variável da lista. Assim como em muitas outras linguagens de programação, em Python a contagem começa em 0. Isso significa que o primeiro item de uma lista é o item `0`."
      ],
      "id": "1ec1bb5c"
    },
    {
      "cell_type": "code",
      "metadata": {
        "colab": {
          "base_uri": "https://localhost:8080/",
          "height": 35
        },
        "id": "ea20bc26",
        "outputId": "cd5df48a-5fe3-45ed-b9e5-da74ffc47527"
      },
      "source": [
        "ingredientes_para_o_molho[0]"
      ],
      "id": "ea20bc26",
      "execution_count": 62,
      "outputs": [
        {
          "output_type": "execute_result",
          "data": {
            "application/vnd.google.colaboratory.intrinsic+json": {
              "type": "string"
            },
            "text/plain": [
              "'tomate'"
            ]
          },
          "metadata": {},
          "execution_count": 62
        }
      ]
    },
    {
      "cell_type": "code",
      "metadata": {
        "colab": {
          "base_uri": "https://localhost:8080/",
          "height": 35
        },
        "id": "8c70b25a",
        "outputId": "649b2344-3104-4acd-bf40-60b7866e259e"
      },
      "source": [
        "ingredientes_para_o_molho[1]"
      ],
      "id": "8c70b25a",
      "execution_count": 63,
      "outputs": [
        {
          "output_type": "execute_result",
          "data": {
            "application/vnd.google.colaboratory.intrinsic+json": {
              "type": "string"
            },
            "text/plain": [
              "'cebola'"
            ]
          },
          "metadata": {},
          "execution_count": 63
        }
      ]
    },
    {
      "cell_type": "markdown",
      "metadata": {
        "id": "7094472f"
      },
      "source": [
        "Você pode usar _índices negativos_ para acessar itens do lado direito da lista - e, na verdade, `[-1]` é um termo comum para acessar \"o último item da lista\" quando não está tão nítido assim quantos elementos há na lista em questão."
      ],
      "id": "7094472f"
    },
    {
      "cell_type": "code",
      "metadata": {
        "id": "7dbd7432"
      },
      "source": [
        "ingredientes_para_o_molho[-1]"
      ],
      "id": "7dbd7432",
      "execution_count": null,
      "outputs": []
    },
    {
      "cell_type": "markdown",
      "metadata": {
        "id": "a905075b"
      },
      "source": [
        "Se o que você precisa é pegar um trecho com alguns itens da sua lista, você só precisa usar dois pontos (mais ou menos como no Excel!). \n",
        "\n",
        "Se quer acessar os primeiros três itens, por exemplo, é só fazer assim:"
      ],
      "id": "a905075b"
    },
    {
      "cell_type": "code",
      "metadata": {
        "colab": {
          "base_uri": "https://localhost:8080/"
        },
        "id": "a8e48c2a",
        "outputId": "d3f91a09-6ecd-4cb9-9a05-bdfca7428926"
      },
      "source": [
        "ingredientes_para_o_molho[0:3]"
      ],
      "id": "a8e48c2a",
      "execution_count": 65,
      "outputs": [
        {
          "output_type": "execute_result",
          "data": {
            "text/plain": [
              "['tomate', 'cebola', 'pimenta']"
            ]
          },
          "metadata": {},
          "execution_count": 65
        }
      ]
    },
    {
      "cell_type": "markdown",
      "metadata": {
        "id": "a2f2eb3e"
      },
      "source": [
        "Você poderia ter deixado de fora o 0 do começo - quando você não informa o primeiro número, o Python por padrão define para \"o primeiro item na lista.\" Da mesma forma, se você deixar de fora o último número, o padrão definido pelo Python é \"o último item da lista.\""
      ],
      "id": "a2f2eb3e"
    },
    {
      "cell_type": "code",
      "metadata": {
        "colab": {
          "base_uri": "https://localhost:8080/"
        },
        "id": "20b53847",
        "outputId": "d524bde7-a009-4884-89a3-9c001d5b3378"
      },
      "source": [
        "ingredientes_para_o_molho[:3]"
      ],
      "id": "20b53847",
      "execution_count": 66,
      "outputs": [
        {
          "output_type": "execute_result",
          "data": {
            "text/plain": [
              "['tomate', 'cebola', 'pimenta']"
            ]
          },
          "metadata": {},
          "execution_count": 66
        }
      ]
    },
    {
      "cell_type": "markdown",
      "metadata": {
        "id": "ab641bcd"
      },
      "source": [
        "Observe que essa fatia nos devolve os itens 0, 1 e 2. O item 3 no nosso conjunto é o primeiro item que nós _não_ queremos. Isso pode parecer confuso em um primeiro momento. Vamos obeservar mais alguns exemplos:"
      ],
      "id": "ab641bcd"
    },
    {
      "cell_type": "code",
      "metadata": {
        "colab": {
          "base_uri": "https://localhost:8080/"
        },
        "id": "84be4755",
        "outputId": "2b7c8d7d-3258-4143-e113-95537f1785da"
      },
      "source": [
        "# tudo na lista, exceto o primeiro item\n",
        "ingredientes_para_o_molho[1:]"
      ],
      "id": "84be4755",
      "execution_count": 67,
      "outputs": [
        {
          "output_type": "execute_result",
          "data": {
            "text/plain": [
              "['cebola', 'pimenta', 'lima', 'coentro']"
            ]
          },
          "metadata": {},
          "execution_count": 67
        }
      ]
    },
    {
      "cell_type": "code",
      "metadata": {
        "colab": {
          "base_uri": "https://localhost:8080/"
        },
        "id": "bf9966f9",
        "outputId": "7137ba08-c5a2-4595-c112-4ed2a632afb6"
      },
      "source": [
        "# o segundo, terceiro e quarto itens\n",
        "ingredientes_para_o_molho[1:4]"
      ],
      "id": "bf9966f9",
      "execution_count": 93,
      "outputs": [
        {
          "output_type": "execute_result",
          "data": {
            "text/plain": [
              "['cebola', 'pimenta', 'limão']"
            ]
          },
          "metadata": {},
          "execution_count": 93
        }
      ]
    },
    {
      "cell_type": "code",
      "metadata": {
        "colab": {
          "base_uri": "https://localhost:8080/"
        },
        "id": "85e36c79",
        "outputId": "cfb28a60-7ee0-4fba-f4ac-718f65a2428a"
      },
      "source": [
        "# os dois últimos itens\n",
        "ingredientes_para_o_molho[-2:]"
      ],
      "id": "85e36c79",
      "execution_count": 71,
      "outputs": [
        {
          "output_type": "execute_result",
          "data": {
            "text/plain": [
              "['limão', 'coentro']"
            ]
          },
          "metadata": {},
          "execution_count": 71
        }
      ]
    },
    {
      "cell_type": "markdown",
      "metadata": {
        "id": "ede9c332"
      },
      "source": [
        "Para saber quantos itens uma lista tem é só usar a funcão `len()`"
      ],
      "id": "ede9c332"
    },
    {
      "cell_type": "code",
      "metadata": {
        "colab": {
          "base_uri": "https://localhost:8080/"
        },
        "id": "8bc4b704",
        "outputId": "6f402806-688c-42d8-898a-891e6f151954"
      },
      "source": [
        "len(ingredientes_para_o_molho)"
      ],
      "id": "8bc4b704",
      "execution_count": 72,
      "outputs": [
        {
          "output_type": "execute_result",
          "data": {
            "text/plain": [
              "5"
            ]
          },
          "metadata": {},
          "execution_count": 72
        }
      ]
    },
    {
      "cell_type": "markdown",
      "metadata": {
        "id": "5e0af166"
      },
      "source": [
        "Para adicionar itens a uma lista, use o método `append()`:"
      ],
      "id": "5e0af166"
    },
    {
      "cell_type": "code",
      "metadata": {
        "colab": {
          "base_uri": "https://localhost:8080/"
        },
        "id": "1639a921",
        "outputId": "d3112c32-3c96-452c-c162-8b307e0c5457"
      },
      "source": [
        "ingredientes_para_o_molho"
      ],
      "id": "1639a921",
      "execution_count": 82,
      "outputs": [
        {
          "output_type": "execute_result",
          "data": {
            "text/plain": [
              "['tomate', 'cebola', 'pimenta', 'limão', 'coentro', 'maionese']"
            ]
          },
          "metadata": {},
          "execution_count": 82
        }
      ]
    },
    {
      "cell_type": "code",
      "metadata": {
        "id": "6590a531"
      },
      "source": [
        "ingredientes_para_o_molho.append('areia')"
      ],
      "id": "6590a531",
      "execution_count": 83,
      "outputs": []
    },
    {
      "cell_type": "code",
      "metadata": {
        "colab": {
          "base_uri": "https://localhost:8080/"
        },
        "id": "19d2ceee",
        "outputId": "b74b8fb8-6b76-4844-99b2-5dd8b8fe78d6"
      },
      "source": [
        "ingredientes_para_o_molho"
      ],
      "id": "19d2ceee",
      "execution_count": 85,
      "outputs": [
        {
          "output_type": "execute_result",
          "data": {
            "text/plain": [
              "['tomate', 'cebola', 'pimenta', 'limão', 'coentro', 'maionese', 'areia']"
            ]
          },
          "metadata": {},
          "execution_count": 85
        }
      ]
    },
    {
      "cell_type": "markdown",
      "metadata": {
        "id": "98bfec10"
      },
      "source": [
        "O único problema aqui é que ficou meio _nojento_, haha. Para remover um item de uma lista, use o método `pop()`. Se você não informar o índice númerico do item específico que você quer remover, o valor padrão do método é \"o último item da lista\"."
      ],
      "id": "98bfec10"
    },
    {
      "cell_type": "code",
      "metadata": {
        "colab": {
          "base_uri": "https://localhost:8080/",
          "height": 35
        },
        "id": "7423f2cc",
        "outputId": "a64a7a1d-fc42-48bc-d8bb-8aa144b899bb"
      },
      "source": [
        "ingredientes_para_o_molho.pop()"
      ],
      "id": "7423f2cc",
      "execution_count": 86,
      "outputs": [
        {
          "output_type": "execute_result",
          "data": {
            "application/vnd.google.colaboratory.intrinsic+json": {
              "type": "string"
            },
            "text/plain": [
              "'areia'"
            ]
          },
          "metadata": {},
          "execution_count": 86
        }
      ]
    },
    {
      "cell_type": "code",
      "metadata": {
        "colab": {
          "base_uri": "https://localhost:8080/"
        },
        "id": "2c88e9ea",
        "outputId": "f192eaca-fc46-4c36-dfb7-d26df937321d"
      },
      "source": [
        "ingredientes_para_o_molho"
      ],
      "id": "2c88e9ea",
      "execution_count": 87,
      "outputs": [
        {
          "output_type": "execute_result",
          "data": {
            "text/plain": [
              "['tomate', 'cebola', 'pimenta', 'limão', 'coentro', 'maionese']"
            ]
          },
          "metadata": {},
          "execution_count": 87
        }
      ]
    },
    {
      "cell_type": "markdown",
      "metadata": {
        "id": "44d04901"
      },
      "source": [
        "Você pode usar as expressões [`in` e `not in`](https://docs.python.org/pt-br/3/reference/expressions.html#membership-test-operations) para verificar se um item pertence àquela lista (e irá lhe retornar um booleano):"
      ],
      "id": "44d04901"
    },
    {
      "cell_type": "code",
      "metadata": {
        "colab": {
          "base_uri": "https://localhost:8080/"
        },
        "id": "22a25cfd",
        "outputId": "c765cfde-2022-4b3d-dab0-f900032ffd4a"
      },
      "source": [
        "'limão' in ingredientes_para_o_molho"
      ],
      "id": "22a25cfd",
      "execution_count": 88,
      "outputs": [
        {
          "output_type": "execute_result",
          "data": {
            "text/plain": [
              "True"
            ]
          },
          "metadata": {},
          "execution_count": 88
        }
      ]
    },
    {
      "cell_type": "code",
      "metadata": {
        "colab": {
          "base_uri": "https://localhost:8080/"
        },
        "id": "a6011786",
        "outputId": "d52af40e-22fc-4bd0-ebca-35d1e991b88b"
      },
      "source": [
        "'coentro' not in ingredientes_para_o_molho"
      ],
      "id": "a6011786",
      "execution_count": 89,
      "outputs": [
        {
          "output_type": "execute_result",
          "data": {
            "text/plain": [
              "False"
            ]
          },
          "metadata": {},
          "execution_count": 89
        }
      ]
    },
    {
      "cell_type": "markdown",
      "metadata": {
        "id": "ea0514be"
      },
      "source": [
        "# Dicionários\n"
      ],
      "id": "ea0514be"
    },
    {
      "cell_type": "markdown",
      "metadata": {
        "id": "rGOF-5d6OdEV"
      },
      "source": [
        "Um dicionário é um conjunto de pares de chave/valor, separados por vírgula, dentro de chaves: `{}`. Vamos fazer uma receita inteira de molho:"
      ],
      "id": "rGOF-5d6OdEV"
    },
    {
      "cell_type": "code",
      "metadata": {
        "id": "70c8eb17"
      },
      "source": [
        "molho = {\n",
        "    'ingredientes': ingredientes_para_o_molho,\n",
        "    'instrucoes': 'Corte todos os ingredientes e cozinhe eles por um tempinho.',\n",
        "    'porcoes': 12\n",
        "}"
      ],
      "id": "70c8eb17",
      "execution_count": 90,
      "outputs": []
    },
    {
      "cell_type": "markdown",
      "metadata": {
        "id": "7a3a1493"
      },
      "source": [
        "Para retornar um valor de um dicionário, você deve chamar o nome da sua respectiva chave dentro de colchetes `[]` imediatamente após o nome da variável do dicionário em questão. "
      ],
      "id": "7a3a1493"
    },
    {
      "cell_type": "code",
      "metadata": {
        "colab": {
          "base_uri": "https://localhost:8080/"
        },
        "id": "31a2135d",
        "outputId": "20cbca86-4983-4ac4-c067-4162707719b0"
      },
      "source": [
        "molho['porcoes']"
      ],
      "id": "31a2135d",
      "execution_count": 91,
      "outputs": [
        {
          "output_type": "execute_result",
          "data": {
            "text/plain": [
              "12"
            ]
          },
          "metadata": {},
          "execution_count": 91
        }
      ]
    },
    {
      "cell_type": "code",
      "metadata": {
        "colab": {
          "base_uri": "https://localhost:8080/"
        },
        "id": "eeea99f0",
        "outputId": "b29ae5db-4589-40b9-9336-be99484799ce"
      },
      "source": [
        "molho['ingredientes']"
      ],
      "id": "eeea99f0",
      "execution_count": 92,
      "outputs": [
        {
          "output_type": "execute_result",
          "data": {
            "text/plain": [
              "['tomate', 'cebola', 'pimenta', 'limão', 'coentro', 'maionese']"
            ]
          },
          "metadata": {},
          "execution_count": 92
        }
      ]
    },
    {
      "cell_type": "markdown",
      "metadata": {
        "id": "5b4713da"
      },
      "source": [
        "Para adicionar um novo conjunto de chave/valor a um dicionário, atribua uma nova chave dentro de colchetes ao dicionário desejado e defina o valor logo após o `=`: "
      ],
      "id": "5b4713da"
    },
    {
      "cell_type": "code",
      "metadata": {
        "id": "421d3adb"
      },
      "source": [
        "molho['esta_uma_delicia'] = True"
      ],
      "id": "421d3adb",
      "execution_count": 94,
      "outputs": []
    },
    {
      "cell_type": "code",
      "metadata": {
        "colab": {
          "base_uri": "https://localhost:8080/"
        },
        "id": "733399a2",
        "outputId": "79fa5b8d-334a-455b-9ea8-1229ed74ee25"
      },
      "source": [
        "molho"
      ],
      "id": "733399a2",
      "execution_count": 95,
      "outputs": [
        {
          "output_type": "execute_result",
          "data": {
            "text/plain": [
              "{'esta_uma_delicia': True,\n",
              " 'ingredientes': ['tomate',\n",
              "  'cebola',\n",
              "  'pimenta',\n",
              "  'limão',\n",
              "  'coentro',\n",
              "  'maionese'],\n",
              " 'instrucoes': 'Corte todos os ingredientes e cozinhe eles por um tempinho.',\n",
              " 'porcoes': 12}"
            ]
          },
          "metadata": {},
          "execution_count": 95
        }
      ]
    },
    {
      "cell_type": "markdown",
      "metadata": {
        "id": "f8bd71d8"
      },
      "source": [
        "Para excluir um par chave/valor de um dicionário, utilize o comando `del` antes o nome do dicionário acompanhado da chave específica:"
      ],
      "id": "f8bd71d8"
    },
    {
      "cell_type": "code",
      "metadata": {
        "id": "0f84017e"
      },
      "source": [
        "del molho['esta_uma_delicia']"
      ],
      "id": "0f84017e",
      "execution_count": 96,
      "outputs": []
    },
    {
      "cell_type": "code",
      "metadata": {
        "colab": {
          "base_uri": "https://localhost:8080/"
        },
        "id": "43e69c4a",
        "outputId": "d033818b-c143-494e-e28a-07ecda27716d"
      },
      "source": [
        "molho"
      ],
      "id": "43e69c4a",
      "execution_count": 97,
      "outputs": [
        {
          "output_type": "execute_result",
          "data": {
            "text/plain": [
              "{'ingredientes': ['tomate',\n",
              "  'cebola',\n",
              "  'pimenta',\n",
              "  'limão',\n",
              "  'coentro',\n",
              "  'maionese'],\n",
              " 'instrucoes': 'Corte todos os ingredientes e cozinhe eles por um tempinho.',\n",
              " 'porcoes': 12}"
            ]
          },
          "metadata": {},
          "execution_count": 97
        }
      ]
    },
    {
      "cell_type": "markdown",
      "metadata": {
        "id": "f5d7aee6"
      },
      "source": [
        "# Indentação"
      ],
      "id": "f5d7aee6"
    },
    {
      "cell_type": "markdown",
      "metadata": {
        "id": "aCL3SgaQO4iW"
      },
      "source": [
        "Espaços em branco fazem a diferença para o Python. Às vezes você precisará identar pedaços de código para que as coisas funcionem. Isso pode ser confuso! `IndentationError` é um tipo muito comum de erro, até mesmo para programadores mais experientes. Inclusive, o Notebook tentará ser prestativo e vai te dar uma mãozinha inserindo uma quantidade \"significativa de espaços em branco\" pra você.\n",
        "\n",
        "Você pode usar tabs ou espaços, só não misture os dois. [O guia de estilo do Python](https://www.python.org/dev/peps/pep-0008/) recomenda que você indente seu código em grupos de quatro espaços, então será isso o que nós usaremos."
      ],
      "id": "aCL3SgaQO4iW"
    },
    {
      "cell_type": "markdown",
      "metadata": {
        "id": "3e3902f3"
      },
      "source": [
        "# Estrutura de repetição `for`\n",
        "\n"
      ],
      "id": "3e3902f3"
    },
    {
      "cell_type": "markdown",
      "metadata": {
        "id": "lDlQwUw4PKSD"
      },
      "source": [
        "Você deve usar um `for` para iterar sobre uma coleção de coisas. A declaração começa com a palavra-chave `for` (em minúsculas), e então uma variável temporária chamada, por exemplo, `nome_da_variavel`. Você pode chamar essa variável como quiser, desde que ela percorra a coleção. Então insira a palavra-chave `in` e em seguida a coleção que você está percorrendo (ou o nome da sua variável), e então dois pontos. Após isso vamos colocar um bloco indentado de código com instruções sobre o que fazer com cada item na coleção.\n",
        "\n",
        "Digamos que temos uma lista de números atribuida à variável `lista_de_numeros`."
      ],
      "id": "lDlQwUw4PKSD"
    },
    {
      "cell_type": "code",
      "metadata": {
        "id": "f31b896b"
      },
      "source": [
        "lista_de_numeros = [1, 2, 3, 4, 5, 6]"
      ],
      "id": "f31b896b",
      "execution_count": 98,
      "outputs": []
    },
    {
      "cell_type": "markdown",
      "metadata": {
        "id": "83bac500"
      },
      "source": [
        "É possível percorer os elementos da lista e imprimir cada um deles na tela:"
      ],
      "id": "83bac500"
    },
    {
      "cell_type": "code",
      "metadata": {
        "colab": {
          "base_uri": "https://localhost:8080/"
        },
        "id": "32066469",
        "outputId": "a8a40e4f-edfb-4bcf-c3a5-bb8f7e942ecc"
      },
      "source": [
        "for numero in lista_de_numeros:\n",
        "    print(numero)"
      ],
      "id": "32066469",
      "execution_count": 99,
      "outputs": [
        {
          "output_type": "stream",
          "name": "stdout",
          "text": [
            "1\n",
            "2\n",
            "3\n",
            "4\n",
            "5\n",
            "6\n"
          ]
        }
      ]
    },
    {
      "cell_type": "markdown",
      "metadata": {
        "id": "8e51a4cb"
      },
      "source": [
        "Podemos também exibir na tela cada número da lista _multiplicado_ por 6:"
      ],
      "id": "8e51a4cb"
    },
    {
      "cell_type": "code",
      "metadata": {
        "colab": {
          "base_uri": "https://localhost:8080/"
        },
        "id": "beacc1fe",
        "outputId": "076c93c0-32f3-4e51-a5d8-22c23423bcfe"
      },
      "source": [
        "for numero in lista_de_numeros:\n",
        "    print(numero*6)"
      ],
      "id": "beacc1fe",
      "execution_count": 100,
      "outputs": [
        {
          "output_type": "stream",
          "name": "stdout",
          "text": [
            "6\n",
            "12\n",
            "18\n",
            "24\n",
            "30\n",
            "36\n"
          ]
        }
      ]
    },
    {
      "cell_type": "markdown",
      "metadata": {
        "id": "9de59d01"
      },
      "source": [
        "... ou qualquer outra coisa que você queira fazer. Observe que a escolha de nome da variável chamada de `numero` na sua repetição é totalmente aleatória. Isso também funcionária:"
      ],
      "id": "9de59d01"
    },
    {
      "cell_type": "code",
      "metadata": {
        "colab": {
          "base_uri": "https://localhost:8080/"
        },
        "id": "30739123",
        "outputId": "5276f547-e691-4ebe-9811-9336c973486f"
      },
      "source": [
        "for banana in lista_de_numeros:\n",
        "    print(banana)"
      ],
      "id": "30739123",
      "execution_count": 101,
      "outputs": [
        {
          "output_type": "stream",
          "name": "stdout",
          "text": [
            "1\n",
            "2\n",
            "3\n",
            "4\n",
            "5\n",
            "6\n"
          ]
        }
      ]
    },
    {
      "cell_type": "markdown",
      "metadata": {
        "id": "3ab46599"
      },
      "source": [
        "Talvez seja desafiador, em um primeiro momento, diferenciar o que é uma \"palavra reservada do Python\" e o que é o nome de uma variável que você pode definir. Isso, no entanto, vem com a prática."
      ],
      "id": "3ab46599"
    },
    {
      "cell_type": "markdown",
      "metadata": {
        "id": "15331646"
      },
      "source": [
        "Também dá pra iterar sobre os elementos de uma string. Vamos percorrer sobre as letras nesta sentença:"
      ],
      "id": "15331646"
    },
    {
      "cell_type": "code",
      "metadata": {
        "colab": {
          "base_uri": "https://localhost:8080/"
        },
        "id": "9f1ab92a",
        "outputId": "beb2729f-02a2-49fe-f65b-435d753d9f93"
      },
      "source": [
        "sentenca = 'Olá, Sexta-Feira'\n",
        "\n",
        "for letra in sentenca:\n",
        "    print(letra)"
      ],
      "id": "9f1ab92a",
      "execution_count": 103,
      "outputs": [
        {
          "output_type": "stream",
          "name": "stdout",
          "text": [
            "O\n",
            "l\n",
            "á\n",
            ",\n",
            " \n",
            "S\n",
            "e\n",
            "x\n",
            "t\n",
            "a\n",
            "-\n",
            "F\n",
            "e\n",
            "i\n",
            "r\n",
            "a\n"
          ]
        }
      ]
    },
    {
      "cell_type": "markdown",
      "metadata": {
        "id": "908e8c98"
      },
      "source": [
        "Então: Strings são iteráveis, assim como listas, logo, você pode utilizar os mesmos métodos:"
      ],
      "id": "908e8c98"
    },
    {
      "cell_type": "code",
      "metadata": {
        "colab": {
          "base_uri": "https://localhost:8080/",
          "height": 35
        },
        "id": "9154bde2",
        "outputId": "772a13aa-f34c-453c-9477-f6a5d7e19f66"
      },
      "source": [
        "# pegue os primeiros cinco caracteres\n",
        "sentenca[:5]"
      ],
      "id": "9154bde2",
      "execution_count": 104,
      "outputs": [
        {
          "output_type": "execute_result",
          "data": {
            "application/vnd.google.colaboratory.intrinsic+json": {
              "type": "string"
            },
            "text/plain": [
              "'Olá, '"
            ]
          },
          "metadata": {},
          "execution_count": 104
        }
      ]
    },
    {
      "cell_type": "code",
      "metadata": {
        "colab": {
          "base_uri": "https://localhost:8080/"
        },
        "id": "d6eed1ec",
        "outputId": "1a3e8121-1694-4287-c42d-ca1b0044cf08"
      },
      "source": [
        "# descubra o tamanho da sentenca\n",
        "len(sentenca)"
      ],
      "id": "d6eed1ec",
      "execution_count": 105,
      "outputs": [
        {
          "output_type": "execute_result",
          "data": {
            "text/plain": [
              "16"
            ]
          },
          "metadata": {},
          "execution_count": 105
        }
      ]
    },
    {
      "cell_type": "code",
      "metadata": {
        "colab": {
          "base_uri": "https://localhost:8080/"
        },
        "id": "c0f66494",
        "outputId": "a5ab3db5-51bb-46bb-a569-a46a2b48327f"
      },
      "source": [
        "'Olá' in sentenca"
      ],
      "id": "c0f66494",
      "execution_count": 106,
      "outputs": [
        {
          "output_type": "execute_result",
          "data": {
            "text/plain": [
              "True"
            ]
          },
          "metadata": {},
          "execution_count": 106
        }
      ]
    },
    {
      "cell_type": "markdown",
      "metadata": {
        "id": "ae8f1c22"
      },
      "source": [
        "Você pode percorrer os elementos de um dicionário também - só tenha em mente que dicionários _não registram a ordem que os itens foram adicionados nele_.\n",
        "\n",
        "Quando você está iterando sobre um dicionário, a variável que você colocou após o `for` irá se remeter às chaves. Vamos percorrer sobre nosso dicionário `molho` ali de cima:"
      ],
      "id": "ae8f1c22"
    },
    {
      "cell_type": "code",
      "metadata": {
        "colab": {
          "base_uri": "https://localhost:8080/"
        },
        "id": "e103fb2a",
        "outputId": "c86d1802-814e-433b-9b7c-fe71007afdbf"
      },
      "source": [
        "for chave in molho:\n",
        "    print(chave)"
      ],
      "id": "e103fb2a",
      "execution_count": 107,
      "outputs": [
        {
          "output_type": "stream",
          "name": "stdout",
          "text": [
            "ingredientes\n",
            "instrucoes\n",
            "porcoes\n"
          ]
        }
      ]
    },
    {
      "cell_type": "markdown",
      "metadata": {
        "id": "5557ca4f"
      },
      "source": [
        "Para pegar o _valor_ do item de um dicionário em uma iteração você deve usar a chave para se referir a ela mesma no dicionário:"
      ],
      "id": "5557ca4f"
    },
    {
      "cell_type": "code",
      "metadata": {
        "colab": {
          "base_uri": "https://localhost:8080/"
        },
        "id": "2c50475b",
        "outputId": "596f8ff2-5d2a-4227-9a16-4d262cefe3fa"
      },
      "source": [
        "for chave in molho:\n",
        "    print(molho[chave])"
      ],
      "id": "2c50475b",
      "execution_count": 108,
      "outputs": [
        {
          "output_type": "stream",
          "name": "stdout",
          "text": [
            "['tomate', 'cebola', 'pimenta', 'limão', 'coentro', 'maionese']\n",
            "Corte todos os ingredientes e cozinhe eles por um tempinho.\n",
            "12\n"
          ]
        }
      ]
    },
    {
      "cell_type": "markdown",
      "metadata": {
        "id": "6e08b9f3"
      },
      "source": [
        "# Declarações `if`\n"
      ],
      "id": "6e08b9f3"
    },
    {
      "cell_type": "markdown",
      "metadata": {
        "id": "IJTXacHSQSdZ"
      },
      "source": [
        "Assim como no Excel, você pode lançar mão da estrutura \"SE\" para lidar com lógica condicional.\n",
        "\n",
        "No Python, essas declarações começam com a palavra-chave `if` (em minúsculas), a condição a ser avaliada, seguida de dois pontos, e então uma nova linha de bloco de código indentado para então executar o código se a condição encontrada for `True` (verdadeira)."
      ],
      "id": "IJTXacHSQSdZ"
    },
    {
      "cell_type": "code",
      "metadata": {
        "colab": {
          "base_uri": "https://localhost:8080/"
        },
        "id": "24495580",
        "outputId": "babe518a-b31b-4367-a2bf-51ecd3b16e4e"
      },
      "source": [
        "if 4 < 6:\n",
        "    print('4 é menor do que 6')"
      ],
      "id": "24495580",
      "execution_count": 109,
      "outputs": [
        {
          "output_type": "stream",
          "name": "stdout",
          "text": [
            "4 é menor do que 6\n"
          ]
        }
      ]
    },
    {
      "cell_type": "markdown",
      "metadata": {
        "id": "aa41acfb"
      },
      "source": [
        "Você também pode adicionar um `else` com um bloco de código indentado caso a condição encontrada for `False` (falsa)."
      ],
      "id": "aa41acfb"
    },
    {
      "cell_type": "code",
      "metadata": {
        "colab": {
          "base_uri": "https://localhost:8080/"
        },
        "id": "320f0a96",
        "outputId": "ec086ddc-b88f-4506-d770-6a6fb0de4bc7"
      },
      "source": [
        "if 4 > 6:\n",
        "    print('4 é maior do que 6?!')\n",
        "else:\n",
        "    print('4 não é maior do que 6.')"
      ],
      "id": "320f0a96",
      "execution_count": 110,
      "outputs": [
        {
          "output_type": "stream",
          "name": "stdout",
          "text": [
            "4 não é maior do que 6.\n"
          ]
        }
      ]
    },
    {
      "cell_type": "markdown",
      "metadata": {
        "id": "c5bb999d"
      },
      "source": [
        "Se você precisar, você pode adicionar múltiplas condições com `elif`."
      ],
      "id": "c5bb999d"
    },
    {
      "cell_type": "code",
      "metadata": {
        "colab": {
          "base_uri": "https://localhost:8080/"
        },
        "id": "9df8bffa",
        "outputId": "f752e36e-95d8-42d9-f5c2-105a14f89173"
      },
      "source": [
        "NOSSO_PLACAR = 6\n",
        "PLACAR_DO_OUTRO_TIME = 8\n",
        "\n",
        "if NOSSO_PLACAR > PLACAR_DO_OUTRO_TIME:\n",
        "    print('ganhamos!')\n",
        "elif PLACAR_DO_OUTRO_TIME < NOSSO_PLACAR:\n",
        "    print('empatamos!')\n",
        "else:\n",
        "    print('perdemos!')"
      ],
      "id": "9df8bffa",
      "execution_count": 111,
      "outputs": [
        {
          "output_type": "stream",
          "name": "stdout",
          "text": [
            "perdemos!\n"
          ]
        }
      ]
    },
    {
      "cell_type": "markdown",
      "metadata": {
        "id": "lvyCtQGbQpj1"
      },
      "source": [
        "Agora que você entendeu como funciona a linguagem Python, já pode dar seus primeiros passos [aprendendo a biblioteca Pandas usando este notebook](https://github.com/escola-de-dados/teaching-guide-intro-to-pandas/blob/master/introdu%C3%A7%C3%A3o_ao_pandas.ipynb)"
      ],
      "id": "lvyCtQGbQpj1"
    }
  ]
}